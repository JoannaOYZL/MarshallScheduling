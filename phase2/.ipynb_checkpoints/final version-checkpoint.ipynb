{
 "cells": [
  {
   "cell_type": "markdown",
   "metadata": {},
   "source": [
    "# 570 Interim Deliverable 2 "
   ]
  },
  {
   "cell_type": "markdown",
   "metadata": {},
   "source": [
    "## MIP formulation"
   ]
  },
  {
   "cell_type": "markdown",
   "metadata": {},
   "source": [
    "#### Input data:  \n",
    "$$\\begin{aligned}\n",
    "\\text{Section information:}\n",
    "&& I & = \\text{{all course sections}} \\\\\n",
    "&& student & = \\text{{predicted number of students who will register for each section}} \\\\\n",
    "&& PS & = \\text{{number of sessions for each section}}  \\\\\n",
    "&& TS & = \\text{{the timelength of each session in hours (e.g., 1.5, 2, 3)}}  \\\\\n",
    "&& I_2 & = \\text{{sections with 2 sessions a week (i.e., MW and TH)}} \\\\\n",
    "\\\\\n",
    "\\text{Classroom information:}\n",
    "&& J & = \\text{{classrooms}} \\\\\n",
    "&& seat & = \\text{{number of seats in each classroom}}  \\\\\n",
    "\\\\\n",
    "\\text{Day-time information:}\n",
    "&& P & = \\text{{day of week (i.e., M T W H F)}}  \\\\\n",
    "&& T & = \\text{{start time of a section}} \\\\\n",
    "\\end{aligned}$$"
   ]
  },
  {
   "cell_type": "markdown",
   "metadata": {},
   "source": [
    "#### Decision variable:\n",
    "Let the binary decision variable $X_{ijpt}$ denotes whether we assign course section $i$ to classroom $j$ at day $p$ starting at time $t$."
   ]
  },
  {
   "cell_type": "markdown",
   "metadata": {},
   "source": [
    "#### Objective and constraints:\n",
    "Our goal is to maximize the capacity utilization rate. The linear program is thus:\n",
    "$$\\begin{aligned}\n",
    "\\text{maximize} && \\sum_{i\\in I}\\sum_{j\\in J}\\sum_{p\\in P}\\sum_{t\\in T}{X_{ijpt}\\frac{student_i}{seat_j}} \\\\\n",
    "\\text{subject to:} \\\\\n",
    "\\\n",
    "\\text{No start time conflict for classes:} && X_{ijpt} + X_{(I-i)jpt} & \\le 1 && \\forall i \\in I, j \\in J, p \\in P, t \\in T\\\\\n",
    "\\\\\n",
    "\\text{No class conflict when a class is in session:} && X_{ijpt} + X_{i'jp(t+c)}& \\le 1 && \\forall i,i' \\in I; j \\in J; p \\in P; t \\in T; c \\in \\{1,2,...,TS_i*2-1\\}\\\\\n",
    "\\\\\n",
    "\\text{All required sessions must be scheduled:} && \\sum_{j\\in J}\\sum_{p\\in P}\\sum_{t\\in T}{X_{ijpt}} & = PS_i && \\forall i \\in I\\\\\n",
    "\\\\\n",
    "\\text{Number of students must not exceed total seats:} && X_{ijpt} * student_i & \\le seat_j && \\forall i \\in I, j \\in J, p \\in P, t \\in T \\\\\n",
    "\\\\\n",
    "\\text{No class scheduled  to last beyond school time (i.e., 9.30PM):} && X_{ijpt'} & = 0 && \\forall i \\in I, j \\in J, p \\in P, t' \\in \\{T_{max}-(TS_i*2)+2,...,T_{max}\\} \\\\\n",
    "\\\\\n",
    "\\text{Binding clause for courses with 2 sessions (MW):} && X_{ij'M't} & = X_{ij'W't} && \\forall i \\in I_2, j \\in J, t \\in T\\\\\n",
    "\\text{Binding clause for courses with 2 sessions (TH):} && X_{ij'T't} & = X_{ij'H't} && \\forall i \\in I_2, j \\in J, t \\in T\\\\\n",
    "\\\\\n",
    "\\text{No Friday class for courses with 2 sessions:} && X_{ij'F't} & = 0 && \\forall i \\in I_2, j \\in J, t \\in T \\\\\n",
    "\\end{aligned}$$"
   ]
  },
  {
   "cell_type": "markdown",
   "metadata": {},
   "source": [
    "# Python Code"
   ]
  },
  {
   "cell_type": "code",
   "execution_count": 1,
   "metadata": {
    "collapsed": true
   },
   "outputs": [],
   "source": [
    "import gurobipy as grb\n",
    "import pandas as pd\n",
    "import numpy as np\n",
    "import datetime\n",
    "from datetime import time\n",
    "from datetime import timedelta\n",
    "import math\n",
    "\n",
    "# for the room capacity file i remove the first record because it is same as the 7th record and will make some error in next step\n",
    "capacity=pd.read_excel(\"Marshall_Room_Capacity_Chart.xlsx\")\n",
    "course_enrollment=pd.read_excel(\"Marshall_Course_Enrollment_1516_1617.xlsx\") # for student prediction\n",
    "#course=pd.read_excel(\"Marshall_Course_Enrollment_1516_1617_small.xlsx\")\n",
    "#section_info=pd.read_excel(\"section information.xlsx\")"
   ]
  },
  {
   "cell_type": "code",
   "execution_count": 35,
   "metadata": {},
   "outputs": [
    {
     "data": {
      "text/html": [
       "<div>\n",
       "<style scoped>\n",
       "    .dataframe tbody tr th:only-of-type {\n",
       "        vertical-align: middle;\n",
       "    }\n",
       "\n",
       "    .dataframe tbody tr th {\n",
       "        vertical-align: top;\n",
       "    }\n",
       "\n",
       "    .dataframe thead th {\n",
       "        text-align: right;\n",
       "    }\n",
       "</style>\n",
       "<table border=\"1\" class=\"dataframe\">\n",
       "  <thead>\n",
       "    <tr style=\"text-align: right;\">\n",
       "      <th></th>\n",
       "      <th>Course</th>\n",
       "      <th>Course Prefix</th>\n",
       "      <th>Course Suffix</th>\n",
       "      <th>Department</th>\n",
       "      <th>First Begin Time</th>\n",
       "      <th>First Days</th>\n",
       "      <th>First End Time</th>\n",
       "      <th>First Instructor</th>\n",
       "      <th>First Instructor UID</th>\n",
       "      <th>First Room</th>\n",
       "      <th>...</th>\n",
       "      <th>Second Begin Time</th>\n",
       "      <th>Second Days</th>\n",
       "      <th>Second End Time</th>\n",
       "      <th>Second Instructor</th>\n",
       "      <th>Second Instructor UID</th>\n",
       "      <th>Second Room</th>\n",
       "      <th>Section</th>\n",
       "      <th>Session</th>\n",
       "      <th>Term</th>\n",
       "      <th>Title</th>\n",
       "    </tr>\n",
       "  </thead>\n",
       "  <tbody>\n",
       "    <tr>\n",
       "      <th>0</th>\n",
       "      <td>ACCT-370</td>\n",
       "      <td>ACCT</td>\n",
       "      <td>370</td>\n",
       "      <td>ACCT</td>\n",
       "      <td>10:00:00</td>\n",
       "      <td>F</td>\n",
       "      <td>11:50:00</td>\n",
       "      <td>Hopkins, Merle, W</td>\n",
       "      <td>3.783354e+09</td>\n",
       "      <td>SLH200</td>\n",
       "      <td>...</td>\n",
       "      <td>NaN</td>\n",
       "      <td>NaN</td>\n",
       "      <td>NaN</td>\n",
       "      <td>NaN</td>\n",
       "      <td>NaN</td>\n",
       "      <td>NaN</td>\n",
       "      <td>14029</td>\n",
       "      <td>1</td>\n",
       "      <td>20153</td>\n",
       "      <td>External Financial Reporting Issues</td>\n",
       "    </tr>\n",
       "    <tr>\n",
       "      <th>1</th>\n",
       "      <td>ACCT-370</td>\n",
       "      <td>ACCT</td>\n",
       "      <td>370</td>\n",
       "      <td>ACCT</td>\n",
       "      <td>08:00:00</td>\n",
       "      <td>MW</td>\n",
       "      <td>09:50:00</td>\n",
       "      <td>Hopkins, Merle, W</td>\n",
       "      <td>3.783354e+09</td>\n",
       "      <td>ACC303</td>\n",
       "      <td>...</td>\n",
       "      <td>NaN</td>\n",
       "      <td>NaN</td>\n",
       "      <td>NaN</td>\n",
       "      <td>NaN</td>\n",
       "      <td>NaN</td>\n",
       "      <td>NaN</td>\n",
       "      <td>14025</td>\n",
       "      <td>1</td>\n",
       "      <td>20153</td>\n",
       "      <td>External Financial Reporting Issues</td>\n",
       "    </tr>\n",
       "    <tr>\n",
       "      <th>2</th>\n",
       "      <td>ACCT-370</td>\n",
       "      <td>ACCT</td>\n",
       "      <td>370</td>\n",
       "      <td>ACCT</td>\n",
       "      <td>10:00:00</td>\n",
       "      <td>MW</td>\n",
       "      <td>11:50:00</td>\n",
       "      <td>Hopkins, Merle, W</td>\n",
       "      <td>3.783354e+09</td>\n",
       "      <td>ACC303</td>\n",
       "      <td>...</td>\n",
       "      <td>NaN</td>\n",
       "      <td>NaN</td>\n",
       "      <td>NaN</td>\n",
       "      <td>NaN</td>\n",
       "      <td>NaN</td>\n",
       "      <td>NaN</td>\n",
       "      <td>14026</td>\n",
       "      <td>1</td>\n",
       "      <td>20153</td>\n",
       "      <td>External Financial Reporting Issues</td>\n",
       "    </tr>\n",
       "    <tr>\n",
       "      <th>3</th>\n",
       "      <td>ACCT-370</td>\n",
       "      <td>ACCT</td>\n",
       "      <td>370</td>\n",
       "      <td>ACCT</td>\n",
       "      <td>12:00:00</td>\n",
       "      <td>MW</td>\n",
       "      <td>13:50:00</td>\n",
       "      <td>Hopkins, Merle, W</td>\n",
       "      <td>3.783354e+09</td>\n",
       "      <td>ACC303</td>\n",
       "      <td>...</td>\n",
       "      <td>NaN</td>\n",
       "      <td>NaN</td>\n",
       "      <td>NaN</td>\n",
       "      <td>NaN</td>\n",
       "      <td>NaN</td>\n",
       "      <td>NaN</td>\n",
       "      <td>14027</td>\n",
       "      <td>1</td>\n",
       "      <td>20153</td>\n",
       "      <td>External Financial Reporting Issues</td>\n",
       "    </tr>\n",
       "    <tr>\n",
       "      <th>4</th>\n",
       "      <td>ACCT-371</td>\n",
       "      <td>ACCT</td>\n",
       "      <td>371</td>\n",
       "      <td>ACCT</td>\n",
       "      <td>10:00:00</td>\n",
       "      <td>F</td>\n",
       "      <td>11:50:00</td>\n",
       "      <td>NaN</td>\n",
       "      <td>NaN</td>\n",
       "      <td>SLH200</td>\n",
       "      <td>...</td>\n",
       "      <td>NaN</td>\n",
       "      <td>NaN</td>\n",
       "      <td>NaN</td>\n",
       "      <td>NaN</td>\n",
       "      <td>NaN</td>\n",
       "      <td>NaN</td>\n",
       "      <td>14044</td>\n",
       "      <td>1</td>\n",
       "      <td>20153</td>\n",
       "      <td>Introduction to Accounting Systems</td>\n",
       "    </tr>\n",
       "  </tbody>\n",
       "</table>\n",
       "<p>5 rows × 26 columns</p>\n",
       "</div>"
      ],
      "text/plain": [
       "     Course Course Prefix Course Suffix Department First Begin Time  \\\n",
       "0  ACCT-370          ACCT           370       ACCT         10:00:00   \n",
       "1  ACCT-370          ACCT           370       ACCT         08:00:00   \n",
       "2  ACCT-370          ACCT           370       ACCT         10:00:00   \n",
       "3  ACCT-370          ACCT           370       ACCT         12:00:00   \n",
       "4  ACCT-371          ACCT           371       ACCT         10:00:00   \n",
       "\n",
       "  First Days First End Time   First Instructor  First Instructor UID  \\\n",
       "0          F       11:50:00  Hopkins, Merle, W          3.783354e+09   \n",
       "1         MW       09:50:00  Hopkins, Merle, W          3.783354e+09   \n",
       "2         MW       11:50:00  Hopkins, Merle, W          3.783354e+09   \n",
       "3         MW       13:50:00  Hopkins, Merle, W          3.783354e+09   \n",
       "4          F       11:50:00                NaN                   NaN   \n",
       "\n",
       "  First Room                 ...                  Second Begin Time  \\\n",
       "0     SLH200                 ...                                NaN   \n",
       "1     ACC303                 ...                                NaN   \n",
       "2     ACC303                 ...                                NaN   \n",
       "3     ACC303                 ...                                NaN   \n",
       "4     SLH200                 ...                                NaN   \n",
       "\n",
       "   Second Days  Second End Time Second Instructor  Second Instructor UID  \\\n",
       "0          NaN              NaN               NaN                    NaN   \n",
       "1          NaN              NaN               NaN                    NaN   \n",
       "2          NaN              NaN               NaN                    NaN   \n",
       "3          NaN              NaN               NaN                    NaN   \n",
       "4          NaN              NaN               NaN                    NaN   \n",
       "\n",
       "   Second Room Section Session   Term                                Title  \n",
       "0          NaN   14029       1  20153  External Financial Reporting Issues  \n",
       "1          NaN   14025       1  20153  External Financial Reporting Issues  \n",
       "2          NaN   14026       1  20153  External Financial Reporting Issues  \n",
       "3          NaN   14027       1  20153  External Financial Reporting Issues  \n",
       "4          NaN   14044       1  20153   Introduction to Accounting Systems  \n",
       "\n",
       "[5 rows x 26 columns]"
      ]
     },
     "execution_count": 35,
     "metadata": {},
     "output_type": "execute_result"
    }
   ],
   "source": [
    "course_enrollment.head()"
   ]
  },
  {
   "cell_type": "markdown",
   "metadata": {},
   "source": [
    "## Extra data from original dataset"
   ]
  },
  {
   "cell_type": "code",
   "execution_count": 2,
   "metadata": {
    "collapsed": true
   },
   "outputs": [],
   "source": [
    "# choose 20153 term as sample\n",
    "data=course_enrollment.loc[course_enrollment.loc[:,\"Term\"]==20153,(\"Course\",\"Section\",\"First Days\",\"First Begin Time\",\"First End Time\",\"First Room\",\"First Instructor\")]\n",
    "data.columns=[\"Course\",\"Section\",\"FirstDays\",\"FirstBeginTime\",\"FirstEndTime\",\"FirstRoom\",\"FirstInstructor\"]\n",
    "# we only use those M/T/W/H/F/MW/TH\n",
    "data=data[(data.FirstDays==\"M\")|(data.FirstDays==\"T\")|(data.FirstDays==\"W\")|(data.FirstDays==\"H\")|(data.FirstDays==\"F\")|(data.FirstDays==\"MW\")|(data.FirstDays==\"TH\")]\n",
    "data=data[(data.FirstRoom!=\"ONLINE\")&(data.FirstRoom!=\"DEN@Viterbi\")]\n",
    "# remove the record that have nan in first begintime\n",
    "data=data[(data.FirstBeginTime==data.FirstBeginTime)|(data.FirstEndTime==data.FirstEndTime)]\n",
    "# remove the record that have nan in professor\n",
    "data=data[data.FirstInstructor==data.FirstInstructor]\n",
    "data=data.loc[:,(\"Course\",\"Section\",\"FirstDays\",\"FirstBeginTime\",\"FirstEndTime\",\"FirstInstructor\")]"
   ]
  },
  {
   "cell_type": "code",
   "execution_count": 3,
   "metadata": {
    "collapsed": true
   },
   "outputs": [],
   "source": [
    "# timelength\n",
    "timelength=[]\n",
    "for i in data.index:\n",
    "    #print i\n",
    "    #print data.loc[i,:]\n",
    "    #print data.loc[i,:]\n",
    "    time1=data.loc[i,\"FirstEndTime\"]\n",
    "    #print type(time1)\n",
    "    time2=data.loc[i,\"FirstBeginTime\"]\n",
    "    minutediff=((time1.hour*60+time1.minute)-(time2.hour*60+time2.minute)+10)\n",
    "    halfhour=minutediff/30\n",
    "    if minutediff%30>0:\n",
    "        halfhour+=1\n",
    "    timelength.append(halfhour)"
   ]
  },
  {
   "cell_type": "code",
   "execution_count": 4,
   "metadata": {
    "collapsed": true
   },
   "outputs": [],
   "source": [
    "# pattern\n",
    "pattern=[]\n",
    "for i in data.index:\n",
    "    day=data.loc[i,\"FirstDays\"]\n",
    "    if (day==\"M\") or (day==\"T\") or (day==\"W\") or (day==\"H\") or (day==\"F\"):\n",
    "        #print day\n",
    "        pattern.append(1)\n",
    "    elif (day==\"MW\") or (day==\"TH\"):\n",
    "        #print day\n",
    "        pattern.append(2)"
   ]
  },
  {
   "cell_type": "markdown",
   "metadata": {},
   "source": [
    "Use the \"section_info=section_info[section_info.timelength<=2]\" below to control the size of dataset (change value of 2), i only tried small one"
   ]
  },
  {
   "cell_type": "code",
   "execution_count": 5,
   "metadata": {},
   "outputs": [
    {
     "name": "stdout",
     "output_type": "stream",
     "text": [
      "3\n",
      "135\n"
     ]
    }
   ],
   "source": [
    "# build section_info table\n",
    "section_info=pd.DataFrame({\"course\":data[\"Course\"],\"section\":data[\"Section\"],\"pattern\":pattern,\"timelength\":timelength,\"FirstInstructor\":data[\"FirstInstructor\"]})\n",
    "# we only use those timelength less than 1.5 hours\n",
    "section_info=section_info[section_info.timelength<=3]\n",
    "# build table of professor and sections\n",
    "Prof=section_info[\"FirstInstructor\"].unique()\n",
    "professor={}\n",
    "for i in Prof:\n",
    "    professor[i]=section_info.loc[section_info.loc[:,\"FirstInstructor\"]==i,\"section\"]\n",
    "print max(section_info[\"timelength\"])\n",
    "print len(section_info)\n",
    "#print section_info.index\n",
    "# for change the index, do not delete \n",
    "section_info.index=range(len(section_info))\n",
    "# get how many sessions we have in this sechedule\n",
    "numofsections=sum(section_info[\"pattern\"])\n",
    "numofprof=len(Prof)"
   ]
  },
  {
   "cell_type": "markdown",
   "metadata": {},
   "source": [
    "### change the size of sample dataset"
   ]
  },
  {
   "cell_type": "code",
   "execution_count": 34,
   "metadata": {},
   "outputs": [
    {
     "name": "stdout",
     "output_type": "stream",
     "text": [
      "8\n",
      "3\n"
     ]
    }
   ],
   "source": [
    "# select a subset of section id \n",
    "section_info=section_info.loc[range(5),:]\n",
    "Prof=section_info[\"FirstInstructor\"].unique()\n",
    "professor={}\n",
    "for i in Prof:\n",
    "    professor[i]=section_info.loc[section_info.loc[:,\"FirstInstructor\"]==i,\"section\"]\n",
    "numofsections=sum(section_info[\"pattern\"])\n",
    "numofprof=len(Prof)\n",
    "print numofsections\n",
    "print numofprof"
   ]
  },
  {
   "cell_type": "markdown",
   "metadata": {},
   "source": [
    "## Build variables"
   ]
  },
  {
   "cell_type": "code",
   "execution_count": 1,
   "metadata": {},
   "outputs": [
    {
     "ename": "NameError",
     "evalue": "name 'section_info' is not defined",
     "output_type": "error",
     "traceback": [
      "\u001b[1;31m---------------------------------------------------------------------------\u001b[0m",
      "\u001b[1;31mNameError\u001b[0m                                 Traceback (most recent call last)",
      "\u001b[1;32m<ipython-input-1-adf4fb1c05f2>\u001b[0m in \u001b[0;36m<module>\u001b[1;34m()\u001b[0m\n\u001b[0;32m      9\u001b[0m \u001b[0mC\u001b[0m\u001b[1;33m=\u001b[0m\u001b[1;33m{\u001b[0m\u001b[1;33m}\u001b[0m\u001b[1;33m\u001b[0m\u001b[0m\n\u001b[0;32m     10\u001b[0m \u001b[0mindex\u001b[0m\u001b[1;33m=\u001b[0m\u001b[1;36m0\u001b[0m\u001b[1;33m\u001b[0m\u001b[0m\n\u001b[1;32m---> 11\u001b[1;33m \u001b[1;32mfor\u001b[0m \u001b[0mi\u001b[0m \u001b[1;32min\u001b[0m \u001b[0msection_info\u001b[0m\u001b[1;33m[\u001b[0m\u001b[1;34m\"section\"\u001b[0m\u001b[1;33m]\u001b[0m\u001b[1;33m:\u001b[0m\u001b[1;33m\u001b[0m\u001b[0m\n\u001b[0m\u001b[0;32m     12\u001b[0m     \u001b[0mC\u001b[0m\u001b[1;33m[\u001b[0m\u001b[0mi\u001b[0m\u001b[1;33m]\u001b[0m\u001b[1;33m=\u001b[0m\u001b[0msection_info\u001b[0m\u001b[1;33m.\u001b[0m\u001b[0mloc\u001b[0m\u001b[1;33m[\u001b[0m\u001b[0msection_info\u001b[0m\u001b[1;33m.\u001b[0m\u001b[0mloc\u001b[0m\u001b[1;33m[\u001b[0m\u001b[1;33m:\u001b[0m\u001b[1;33m,\u001b[0m\u001b[1;34m\"section\"\u001b[0m\u001b[1;33m]\u001b[0m\u001b[1;33m==\u001b[0m\u001b[0mi\u001b[0m\u001b[1;33m,\u001b[0m\u001b[1;34m\"course\"\u001b[0m\u001b[1;33m]\u001b[0m\u001b[1;33m.\u001b[0m\u001b[0mget\u001b[0m\u001b[1;33m(\u001b[0m\u001b[0mindex\u001b[0m\u001b[1;33m)\u001b[0m\u001b[1;33m\u001b[0m\u001b[0m\n\u001b[0;32m     13\u001b[0m     \u001b[0mindex\u001b[0m\u001b[1;33m+=\u001b[0m\u001b[1;36m1\u001b[0m\u001b[1;33m\u001b[0m\u001b[0m\n",
      "\u001b[1;31mNameError\u001b[0m: name 'section_info' is not defined"
     ]
    }
   ],
   "source": [
    "# What we need to extract from data\n",
    "# prediction about student registeration for every section\n",
    "# how many section we need to schedule\n",
    "# the pattern, time length of each section\n",
    "# classroom capacity\n",
    "\n",
    "# Variables\n",
    "# course name\n",
    "C={}\n",
    "index=0\n",
    "for i in section_info[\"section\"]:\n",
    "    C[i]=section_info.loc[section_info.loc[:,\"section\"]==i,\"course\"].get(index)\n",
    "    index+=1\n",
    "# section of course\n",
    "I=section_info[\"section\"]\n",
    "# classroom\n",
    "J=capacity[\"Room\"]\n",
    "# pattern of session (less than catagories in origional dataset)\n",
    "P=[\"Monday\",\"Tuesday\",\"Wednesday\",\"Thursday\",\"Friday\"]\n",
    "P=pd.Series(i for i in P)\n",
    "# start time of session (from 8:00am to 9:00pm,so the real classtime is between 8:00am to 10:00pm)\n",
    "T1={}\n",
    "time = datetime.timedelta(hours=8,minutes=0, seconds=0)\n",
    "for i in range(27):\n",
    "    T1[str(time+timedelta(hours=0.5*i))]=i\n",
    "T=pd.Series(i for i in range(27))\n",
    "\n",
    "# students' registeration prediction\n",
    "student={}\n",
    "for i in I:\n",
    "    sum1=sum(course_enrollment.loc[course_enrollment.loc[:,\"Section\"]==i,\"Reg Count\"])\n",
    "    len1=len(course_enrollment.loc[course_enrollment.loc[:,\"Section\"]==i,\"Reg Count\"])\n",
    "    student[i]=round(sum1/len1)\n",
    "#student=pd.Series(i for i in student)\n",
    "\n",
    "# seat\n",
    "seat={}\n",
    "for index,row in capacity.iterrows():\n",
    "    seat[row[\"Room\"]]=row[\"Size\"]\n",
    "#seat=pd.Series(i for i in seat)\n",
    "    \n",
    "# pattern of each section\n",
    "PS={}\n",
    "index=0\n",
    "for i in I:\n",
    "    PS[i]=section_info.loc[section_info.loc[:,\"section\"]==i,\"pattern\"].get(index)\n",
    "    index+=1\n",
    "#PS=pd.Series(i for i in PS)\n",
    "    \n",
    "# timelength of each section\n",
    "TS={}\n",
    "index=0\n",
    "for i in I:\n",
    "    TS[i]=section_info.loc[section_info.loc[:,\"section\"]==i,\"timelength\"].get(index)\n",
    "    index+=1\n",
    "#TS=pd.Series(i for i in TS)\n",
    "\n",
    "#define primetime\n",
    "primetime=range(4,21)"
   ]
  },
  {
   "cell_type": "markdown",
   "metadata": {},
   "source": [
    "## Build Model"
   ]
  },
  {
   "cell_type": "code",
   "execution_count": 37,
   "metadata": {
    "collapsed": true
   },
   "outputs": [],
   "source": [
    "# Building model\n",
    "mod=grb.Model()"
   ]
  },
  {
   "cell_type": "markdown",
   "metadata": {},
   "source": [
    "## Decision Variables"
   ]
  },
  {
   "cell_type": "code",
   "execution_count": null,
   "metadata": {
    "collapsed": true
   },
   "outputs": [],
   "source": [
    "X={}\n",
    "for i in I: # section id\n",
    "    for j in J: # classroom\n",
    "        for p in P: # day of week\n",
    "             for t in T: # start timeslot of sesstion\n",
    "                    X[i,j,p,t]=mod.addVar(vtype=grb.GRB.BINARY, name='x[{0},{1},{2},{3}]'.format(i,j,p,t))\n",
    "\n",
    "                    \n",
    "# add one more variable PD[f,p,b], f is faculty(professor), p is day of week, b is the building\n",
    "# PD[f,p,b]=1 means that prof f in p day has class in building b \n",
    "PD={}\n",
    "Building=[\"ACC\",\"BRI\",\"HOH\",\"JFF\",\"JKP\"]\n",
    "for f in Prof:\n",
    "    for p in P:\n",
    "        for b in Building:\n",
    "            PD[f,p,b]=mod.addVar(vtype=grb.GRB.BINARY,name='PD[{0},{1},{2}]'.format(f,p,b))\n",
    "\n",
    "# add one more numeric variable Dp,f means that professor f have to show up in campus in p day of week\n",
    "D={}\n",
    "for f in Prof:\n",
    "    for p in P:\n",
    "        D[p,f]=mod.addVar(vtype=grb.GRB.BINARY,name='x[{0}]'.format(p))\n",
    "\n",
    "#add one more varible PTi. PTi means that how many sessions of section i are in prime time\n",
    "PT={}\n",
    "for i in I:\n",
    "    PT[i]=mod.addVar(vtype=grb.GRB.INTEGER,name='PT[{0}]'.format(i))\n"
   ]
  },
  {
   "cell_type": "markdown",
   "metadata": {},
   "source": [
    "## Objective"
   ]
  },
  {
   "cell_type": "code",
   "execution_count": 3,
   "metadata": {},
   "outputs": [
    {
     "ename": "NameError",
     "evalue": "name 'mod' is not defined",
     "output_type": "error",
     "traceback": [
      "\u001b[1;31m---------------------------------------------------------------------------\u001b[0m",
      "\u001b[1;31mNameError\u001b[0m                                 Traceback (most recent call last)",
      "\u001b[1;32m<ipython-input-3-7c021cb33cb6>\u001b[0m in \u001b[0;36m<module>\u001b[1;34m()\u001b[0m\n\u001b[0;32m      4\u001b[0m \u001b[1;31m# for example, if DSO570 assigned to M/W 12:00, namely X[DSO570,j,\"MW\",12:00]=1, but X[i,j,\"M\",12:00]=0 and X[i,j,\"W\",12:00]=0,\u001b[0m\u001b[1;33m\u001b[0m\u001b[1;33m\u001b[0m\u001b[0m\n\u001b[0;32m      5\u001b[0m \u001b[1;31m# so other courses maight be assign to this time too\u001b[0m\u001b[1;33m\u001b[0m\u001b[1;33m\u001b[0m\u001b[0m\n\u001b[1;32m----> 6\u001b[1;33m mod.setObjective((\n\u001b[0m\u001b[0;32m      7\u001b[0m     \u001b[1;31m# classroom utilization (max)\u001b[0m\u001b[1;33m\u001b[0m\u001b[1;33m\u001b[0m\u001b[0m\n\u001b[0;32m      8\u001b[0m     \u001b[0msum\u001b[0m\u001b[1;33m(\u001b[0m\u001b[0mX\u001b[0m\u001b[1;33m[\u001b[0m\u001b[0mi\u001b[0m\u001b[1;33m,\u001b[0m\u001b[0mj\u001b[0m\u001b[1;33m,\u001b[0m\u001b[0mp\u001b[0m\u001b[1;33m,\u001b[0m\u001b[0mt\u001b[0m\u001b[1;33m]\u001b[0m\u001b[1;33m*\u001b[0m\u001b[0mstudent\u001b[0m\u001b[1;33m[\u001b[0m\u001b[0mi\u001b[0m\u001b[1;33m]\u001b[0m\u001b[1;33m/\u001b[0m\u001b[0mseat\u001b[0m\u001b[1;33m[\u001b[0m\u001b[0mj\u001b[0m\u001b[1;33m]\u001b[0m \u001b[1;32mfor\u001b[0m \u001b[0mi\u001b[0m \u001b[1;32min\u001b[0m \u001b[0mI\u001b[0m \u001b[1;32mfor\u001b[0m \u001b[0mj\u001b[0m \u001b[1;32min\u001b[0m \u001b[0mJ\u001b[0m \u001b[1;32mfor\u001b[0m \u001b[0mp\u001b[0m \u001b[1;32min\u001b[0m \u001b[0mP\u001b[0m \u001b[1;32mfor\u001b[0m \u001b[0mt\u001b[0m \u001b[1;32min\u001b[0m \u001b[0mT\u001b[0m\u001b[1;33m)\u001b[0m\u001b[1;33m/\u001b[0m\u001b[0mnumofsections\u001b[0m\u001b[1;33m\u001b[0m\u001b[0m\n",
      "\u001b[1;31mNameError\u001b[0m: name 'mod' is not defined"
     ]
    }
   ],
   "source": [
    "# Objective\n",
    "# As i set the constraint1 below, so the section with 2 or 3 sessions will have higher weight here\n",
    "# but if i do not set constraint1, we cannot promise other sections will not take the vacancy\n",
    "# for example, if DSO570 assigned to M/W 12:00, namely X[DSO570,j,\"MW\",12:00]=1, but X[i,j,\"M\",12:00]=0 and X[i,j,\"W\",12:00]=0, \n",
    "# so other courses maight be assign to this time too\n",
    "mod.setObjective((\n",
    "    # classroom utilization (max)\n",
    "    sum(X[i,j,p,t]*student[i]/seat[j] for i in I for j in J for p in P for t in T)/numofsections\n",
    "    # number of days that professor has class (min)\n",
    "    -sum(D[p,f] for f in Prof for p in P)/numofprof\n",
    "    # number of buildings that professor need to go in anyday that he has class (min\n",
    "    -sum(PD[f,p,b] for f in Prof for p in P for b in Building)/numofprof\n",
    "    # prime time utilization (max)\n",
    "    +sum(PT[i] for i in I)/numofsections\n",
    "),sense=grb.GRB.MAXIMIZE)"
   ]
  },
  {
   "cell_type": "markdown",
   "metadata": {},
   "source": [
    "## Constraints"
   ]
  },
  {
   "cell_type": "code",
   "execution_count": 38,
   "metadata": {
    "collapsed": true
   },
   "outputs": [],
   "source": [
    "# constraints\n",
    "I_twoday=pd.Series()\n",
    "I_oneday=pd.Series()\n",
    "for i in I:\n",
    "    if PS.get(i)==1:\n",
    "        I_oneday=I_oneday.append(pd.Series(i))\n",
    "    else:\n",
    "        I_twoday=I_twoday.append(pd.Series(i))"
   ]
  },
  {
   "cell_type": "code",
   "execution_count": 39,
   "metadata": {
    "collapsed": true
   },
   "outputs": [],
   "source": [
    "# constraint1\n",
    "# in each time slot in each day every professor can only teach one session at the same time\n",
    "constraint1={}\n",
    "for t in T:\n",
    "    for p in P:\n",
    "        for prof in Prof:\n",
    "            constraint1[t,p,prof]=mod.addConstr(sum(X[i,j,p,t] for i in professor[prof].values for j in J)<=1)"
   ]
  },
  {
   "cell_type": "code",
   "execution_count": 40,
   "metadata": {
    "collapsed": true
   },
   "outputs": [],
   "source": [
    "# new constraint2\n",
    "# every timeslot in every classroom in a specific day, there will be only one or zero class\n",
    "constraint2={}\n",
    "for j in J:\n",
    "    for t in T:\n",
    "        for p in P:\n",
    "            constraint2[j,t,p]=mod.addConstr(sum(X[i,j,p,t] for i in I)<=1)\n",
    "            \n",
    "# in the next (number of required sessions)*2 timeslot all of X should be 0\n",
    "I2=I\n",
    "for i1 in I:\n",
    "    I2=I2.drop(pd.Index(I).get_loc(i1))\n",
    "    for j in J:\n",
    "        for t in T:\n",
    "            for p in P:\n",
    "                timeslots=int(TS[i1])\n",
    "                if t<=(27-timeslots): # avoid a situation that three hours course is assigned to 8:00 pm\n",
    "                    #print i1,j,p,t\n",
    "                    constraint2[i1,j,t,p]=mod.addConstr((X[i1,j,p,t]+sum(X[i2,j,p,t+num] for i2 in I2 for num in range(0,timeslots)))<=1,name=\"\")"
   ]
  },
  {
   "cell_type": "code",
   "execution_count": 13,
   "metadata": {
    "collapsed": true
   },
   "outputs": [],
   "source": [
    "# this constraint3 is only for those sections whose pattern is 2, which means they have two session every week.\n",
    "constraint3={}\n",
    "for i in I_twoday:\n",
    "    for j in J:\n",
    "        for t in T:\n",
    "            constraint3[i,j,\"M\",t]=mod.addConstr(X[i,j,\"Wednesday\",t]== X[i,j,\"Monday\",t],name=\"\") \n",
    "            # the section with two sessions must have same 0/1 in M and W\n",
    "            \n",
    "            constraint3[i,j,\"T\",t]=mod.addConstr(X[i,j,\"Thursday\",t] == X[i,j,\"Tuesday\",t],name=\"\") \n",
    "            # the section with two sessions must have same 0/1 in M and W"
   ]
  },
  {
   "cell_type": "code",
   "execution_count": 14,
   "metadata": {
    "collapsed": true
   },
   "outputs": [],
   "source": [
    "# this constraint4 is to control that when we maximum the utilization rate,the number of student registered \n",
    "#for one section should less than the classroom capacity\n",
    "constraint4={}\n",
    "for i in I:\n",
    "    for j in J:\n",
    "        for p in P:\n",
    "             for t in T:\n",
    "                    constraint4[i,j,p,t]=mod.addConstr(X[i,j,p,t]*student[i]<=seat[j],name=\"\")"
   ]
  },
  {
   "cell_type": "code",
   "execution_count": 15,
   "metadata": {
    "collapsed": true
   },
   "outputs": [],
   "source": [
    "# this constraint5 is to make sure that in all time in all classroom in all day, \n",
    "#for each section, sum(X)=required sessions\n",
    "constraint5={}\n",
    "for i in I:\n",
    "    constraint5[i]=mod.addConstr(sum(X[i,j,p,t] for j in J for p in P for t in T)==PS.get(i),name=\"\")    "
   ]
  },
  {
   "cell_type": "code",
   "execution_count": 16,
   "metadata": {
    "collapsed": true
   },
   "outputs": [],
   "source": [
    "#constraint6: No Friday class for MW and TH section\n",
    "constraint6={}\n",
    "for i in I_twoday:\n",
    "    constraint6[i] = mod.addConstr(sum(X[i,j,\"Friday\",t] for j in J for t in T) == 0) "
   ]
  },
  {
   "cell_type": "code",
   "execution_count": 17,
   "metadata": {
    "collapsed": true
   },
   "outputs": [],
   "source": [
    "#constraint7:no class can last longer than the '9PM-9.30PM' block\n",
    "constraint7={}\n",
    "for i in I:\n",
    "    constraint7[i] = mod.addConstr(sum(X[i,j,p,T.max()-ts] for j in J for p in P for ts in range(int(TS[i]))) == 0)"
   ]
  },
  {
   "cell_type": "code",
   "execution_count": 18,
   "metadata": {
    "collapsed": true
   },
   "outputs": [],
   "source": [
    "# building to classroom\n",
    "ACC=[]\n",
    "BRI=[]\n",
    "HOH=[]\n",
    "JFF=[]\n",
    "JKP=[]\n",
    "for j in J:\n",
    "    if j[0:3]==\"ACC\":\n",
    "        ACC.append(j)\n",
    "    elif j[0:3]==\"BRI\":\n",
    "        BRI.append(j)\n",
    "    elif j[0:3]==\"HOH\":\n",
    "        HOH.append(j)\n",
    "    elif j[0:3]==\"JFF\":\n",
    "        JFF.append(j)\n",
    "    elif j[0:3]==\"JKP\":\n",
    "        JKP.append(j)\n",
    "BtoC={\"ACC\":ACC,\"BRI\":BRI,\"HOH\":HOH,\"JFF\":JFF,\"JKP\":JKP}"
   ]
  },
  {
   "cell_type": "code",
   "execution_count": 19,
   "metadata": {
    "collapsed": true
   },
   "outputs": [],
   "source": [
    "# constraint8 for each professor, make them teach in same building for everyday they teach\n",
    "constraint8={}\n",
    "\n",
    "for f in Prof:\n",
    "    for p in P:\n",
    "        for b in Building:\n",
    "            courses=professor.get(f)\n",
    "            classrooms=BtoC.get(b)\n",
    "            for i in courses:\n",
    "                for j in classrooms:\n",
    "                    for t in T:\n",
    "                        constraint8[f,p,b,i,j,t]=mod.addConstr(PD[f,p,b]>=X[i,j,p,t])\n",
    "                        \n",
    "for f in Prof:\n",
    "    for p in P:\n",
    "        mod.addConstr(sum(PD[f,p,b] for b in Building)<=1)"
   ]
  },
  {
   "cell_type": "code",
   "execution_count": 20,
   "metadata": {
    "collapsed": true
   },
   "outputs": [],
   "source": [
    "# constraint9 is to minimum the day that professor show in campus\n",
    "constraint9={}\n",
    "\n",
    "for f in Prof:\n",
    "    for p in P:\n",
    "        for i in professor.get(f):\n",
    "            constraint9[f,p,i]=mod.addConstr(sum(X[i,j,p,t] for j in J for t in T)<=D[p,f])    "
   ]
  },
  {
   "cell_type": "code",
   "execution_count": 21,
   "metadata": {
    "collapsed": true
   },
   "outputs": [],
   "source": [
    "#constraint10 is to maximum the prime time of classrooms used by the course schedule\n",
    "constraint10={}\n",
    "for i in I:\n",
    "    #print i\n",
    "    constraint10[i]=mod.addConstr(sum(X[i,j,p,t] for j in J for p in P for t in primetime if(t+TS[i])<=20)>=PT[i])\n"
   ]
  },
  {
   "cell_type": "code",
   "execution_count": 22,
   "metadata": {},
   "outputs": [
    {
     "name": "stdout",
     "output_type": "stream",
     "text": [
      "number of constrints 298741\n"
     ]
    }
   ],
   "source": [
    "print \"number of constrints \"+str(len(constraint10)+len(constraint9)+len(constraint8)+len(constraint7)+len(constraint6)+len(constraint5)+len(constraint4)+len(constraint3)+len(constraint2)+len(constraint1))"
   ]
  },
  {
   "cell_type": "markdown",
   "metadata": {},
   "source": [
    "## Best solution output"
   ]
  },
  {
   "cell_type": "code",
   "execution_count": 24,
   "metadata": {
    "scrolled": true
   },
   "outputs": [
    {
     "name": "stdout",
     "output_type": "stream",
     "text": [
      "Optimize a model with 298781 rows, 89355 columns and 2572310 nonzeros\n",
      "Variable types: 0 continuous, 89355 integer (89340 binary)\n",
      "Coefficient statistics:\n",
      "  Matrix range     [1e+00, 4e+01]\n",
      "  Objective range  [9e-04, 1e-01]\n",
      "  Bounds range     [1e+00, 1e+00]\n",
      "  RHS range        [1e+00, 3e+02]\n",
      "Found heuristic solution: objective -4.3187685\n",
      "Presolve removed 265506 rows and 55979 columns (presolve time = 5s) ...\n",
      "Presolve removed 265518 rows and 55979 columns\n",
      "Presolve time: 7.44s\n",
      "Presolved: 33263 rows, 33376 columns, 360152 nonzeros\n",
      "Variable types: 0 continuous, 33376 integer (33376 binary)\n",
      "\n",
      "Deterministic concurrent LP optimizer: primal and dual simplex\n",
      "Showing first log only...\n",
      "\n",
      "Presolved: 33263 rows, 33376 columns, 360152 nonzeros\n",
      "\n",
      "Presolve removed 20 rows and 27 columns\n",
      "\n",
      "Root simplex log...\n",
      "\n",
      "Iteration    Objective       Primal Inf.    Dual Inf.      Time\n",
      "       0   -2.5486767e+00   3.000000e+01   6.823800e+10      8s\n",
      "   13525   -8.7469071e-01   0.000000e+00   0.000000e+00      9s\n",
      "Concurrent spin time: 0.54s\n",
      "\n",
      "Solved with primal simplex\n",
      "\n",
      "Root relaxation: objective -8.746907e-01, 13525 iterations, 1.88 seconds\n",
      "Total elapsed time = 10.05s\n",
      "\n",
      "    Nodes    |    Current Node    |     Objective Bounds      |     Work\n",
      " Expl Unexpl |  Obj  Depth IntInf | Incumbent    BestBd   Gap | It/Node Time\n",
      "\n",
      "     0     0   -0.87469    0  457   -4.31877   -0.87469  79.7%     -   10s\n",
      "H    0     0                      -1.9639764   -0.87469  55.5%     -   11s\n",
      "H    0     0                      -1.9604050   -0.87469  55.4%     -   12s\n",
      "     0     0   -0.87469    0  457   -1.96040   -0.87469  55.4%     -   14s\n",
      "     0     0   -0.88738    0  457   -1.96040   -0.88738  54.7%     -   17s\n",
      "     0     0   -0.90728    0  513   -1.96040   -0.90728  53.7%     -   18s\n",
      "     0     0   -0.91868    0  597   -1.96040   -0.91868  53.1%     -   21s\n",
      "     0     0   -0.91868    0  597   -1.96040   -0.91868  53.1%     -   22s\n",
      "     0     0   -0.93089    0  597   -1.96040   -0.93089  52.5%     -   25s\n",
      "     0     0   -0.93996    0  541   -1.96040   -0.93996  52.1%     -   26s\n",
      "     0     0   -0.93996    0  541   -1.96040   -0.93996  52.1%     -   27s\n",
      "     0     0   -0.93996    0  603   -1.96040   -0.93996  52.1%     -   27s\n",
      "     0     0   -0.93996    0  603   -1.96040   -0.93996  52.1%     -   28s\n",
      "     0     0   -0.94442    0  485   -1.96040   -0.94442  51.8%     -   29s\n",
      "     0     0   -0.94497    0  388   -1.96040   -0.94497  51.8%     -   29s\n",
      "     0     0   -0.95467    0  374   -1.96040   -0.95467  51.3%     -   29s\n",
      "     0     0   -0.95467    0  374   -1.96040   -0.95467  51.3%     -   30s\n",
      "     0     0   -1.03791    0  541   -1.96040   -1.03791  47.1%     -   30s\n",
      "     0     0   -1.03791    0  541   -1.96040   -1.03791  47.1%     -   34s\n",
      "     0     0   -1.03794    0  539   -1.96040   -1.03794  47.1%     -   35s\n",
      "     0     0   -1.03794    0  539   -1.96040   -1.03794  47.1%     -   38s\n",
      "     0     0   -1.03991    0  477   -1.96040   -1.03991  47.0%     -   39s\n",
      "     0     0   -1.03991    0  477   -1.96040   -1.03991  47.0%     -   40s\n",
      "     0     0   -1.03991    0  477   -1.96040   -1.03991  47.0%     -   40s\n",
      "     0     0   -1.03991    0  478   -1.96040   -1.03991  47.0%     -   40s\n",
      "     0     0   -1.04155    0  449   -1.96040   -1.04155  46.9%     -   41s\n",
      "     0     0   -1.04155    0  595   -1.96040   -1.04155  46.9%     -   41s\n",
      "     0     0   -1.04155    0  595   -1.96040   -1.04155  46.9%     -   42s\n",
      "     0     0   -1.04155    0  596   -1.96040   -1.04155  46.9%     -   42s\n",
      "     0     0   -1.04155    0  595   -1.96040   -1.04155  46.9%     -   43s\n",
      "     0     0   -1.04155    0  595   -1.96040   -1.04155  46.9%     -   46s\n",
      "     0     2   -1.04155    0  595   -1.96040   -1.04155  46.9%     -   47s\n",
      "     9    11   -1.28262    3  541   -1.96040   -1.25032  36.2%   280   50s\n",
      "    36    36   -1.49465   16  464   -1.96040   -1.25032  36.2%   129   58s\n",
      "    45    45   -1.51804   20  583   -1.96040   -1.25032  36.2%   118   60s\n",
      "   106   105   -1.61939   45  295   -1.96040   -1.25032  36.2%  74.6   65s\n",
      "H  179   160                      -1.9544526   -1.25032  36.0%  59.4   68s\n",
      "H  181   167                      -1.9531688   -1.25032  36.0%  59.4   68s\n",
      "   201   177   -1.84023  103   89   -1.95317   -1.25032  36.0%  56.5   70s\n",
      "   274   240   -1.84344   15   57   -1.95317   -1.28340  34.3%  53.2   75s\n",
      "H  323   285                      -1.9401193   -1.28340  33.8%  46.1   77s\n",
      "   386   329   -1.40596    5  441   -1.94012   -1.38278  28.7%  47.5   80s\n",
      "H  415   348                      -1.9341669   -1.38278  28.5%  48.9   82s\n",
      "   490   370   -1.74396    7  377   -1.93417   -1.39642  27.8%  55.0   85s\n",
      "   552   383   -1.90564   22   92   -1.93417   -1.41386  26.9%  59.0   90s\n",
      "   710   426   -1.61434   14  431   -1.93417   -1.49865  22.5%  67.3   95s\n",
      "   742   436   -1.86389    9  595   -1.93417   -1.49865  22.5%  66.7  113s\n",
      "   744   437   -1.64670    7   48   -1.93417   -1.64670  14.9%  66.5  115s\n",
      "   758   447   -1.86674   12   42   -1.93417   -1.75190  9.42%  17.8  120s\n",
      "   784   444   -1.78341   19   51   -1.93417   -1.75960  9.03%  19.4  125s\n",
      "   881   420   -1.86100   88   58   -1.93417   -1.79202  7.35%  18.5  130s\n",
      "\n",
      "Cutting planes:\n",
      "  Clique: 51\n",
      "  MIR: 1\n",
      "\n",
      "Explored 1055 nodes (98719 simplex iterations) in 133.16 seconds\n",
      "Thread count was 4 (of 4 available processors)\n",
      "\n",
      "Solution count 7: -1.93417 -1.94012 -1.95317 ... -4.31877\n",
      "\n",
      "Optimal solution found (tolerance 1.00e-04)\n",
      "Best objective -1.934166936005e+00, best bound -1.934166936005e+00, gap 0.0000%\n",
      "('Optimal solution:', -1.9341669360051694)\n"
     ]
    }
   ],
   "source": [
    "mod.optimize()\n",
    "mod.setParam('OutputFlag',False)\n",
    "\n",
    "print('Optimal solution:',mod.ObjVal)"
   ]
  },
  {
   "cell_type": "code",
   "execution_count": 25,
   "metadata": {
    "collapsed": true
   },
   "outputs": [],
   "source": [
    "# get the small subset of J that have classes in this classroom\n",
    "J1=[]\n",
    "for j in J:\n",
    "    if sum(X[i,j,p,t].x for i in I for p in P for t in T)>0:\n",
    "        J1.append(j)\n",
    "#print J1"
   ]
  },
  {
   "cell_type": "code",
   "execution_count": 26,
   "metadata": {
    "collapsed": true
   },
   "outputs": [],
   "source": [
    "# return a blank table\n",
    "def blanktable():\n",
    "    T1=[]\n",
    "    blank=[]\n",
    "    time = datetime.timedelta(hours=8,minutes=0, seconds=0)\n",
    "    for i in range(27):\n",
    "        T1.append(str(time+timedelta(hours=0.5*i)))\n",
    "        blank.append(\"\")\n",
    "    schedule=pd.DataFrame({\"# timeslot\": range(27),\n",
    "                           \"timeslot\":T1,\n",
    "                           \"Monday\":blank,\n",
    "                           \"Tuesday\":blank,\n",
    "                           \"Wednesday\":blank,\n",
    "                           \"Thursday\":blank,\n",
    "                           \"Friday\":blank})\n",
    "    sched_cols = ['# timeslot','timeslot','Monday','Tuesday','Wednesday','Thursday','Friday']\n",
    "    schedule = schedule[sched_cols]\n",
    "    schedule=schedule.set_index('# timeslot')\n",
    "    return schedule"
   ]
  },
  {
   "cell_type": "code",
   "execution_count": 27,
   "metadata": {
    "collapsed": true
   },
   "outputs": [],
   "source": [
    "# put the optimal solution into our beautiful schedule table\n",
    "timetable={}\n",
    "for j in J1:\n",
    "    #print \"J is \"+j\n",
    "    #print \"schedule\"+j\n",
    "    schedule1=blanktable()\n",
    "    for i in I:\n",
    "        for p in P:\n",
    "            for t in T:\n",
    "                if X[i,j,p,t].x>0:\n",
    "                    for a in range(int(TS[i])):\n",
    "                        schedule1.loc[t+a,p]=C[i]+\" / \"+str(i)\n",
    "                        #print schedule1\n",
    "    timetable[\"schedule\"+j]=schedule1\n",
    "    #print \"timetable \"+\"schedule\"+j\n",
    "    #print timetable[\"schedule\"+j]\n",
    "    "
   ]
  },
  {
   "cell_type": "code",
   "execution_count": 28,
   "metadata": {
    "collapsed": true
   },
   "outputs": [],
   "source": [
    "output=pd.ExcelWriter(\"schedule_24_sections.xlsx\")\n",
    "for j in J:\n",
    "    if sum(X[i,j,p,t].x for i in I for p in P for t in T)>0:\n",
    "        timetable[\"schedule\"+j].to_excel(output,sheet_name=j,index=False)\n",
    "output.save()"
   ]
  },
  {
   "cell_type": "code",
   "execution_count": 30,
   "metadata": {
    "scrolled": true
   },
   "outputs": [
    {
     "name": "stdout",
     "output_type": "stream",
     "text": [
      "Ryan, Tom Friday ACC 1.0\n",
      "Bonner, Sarah, Elizabeth Monday BRI 1.0\n",
      "Bonner, Sarah, Elizabeth Wednesday BRI 1.0\n",
      "Kiddoo, Bob Tuesday ACC 1.0\n",
      "Kiddoo, Bob Thursday ACC 1.0\n",
      "Lennox, Clive Tuesday BRI 1.0\n",
      "Lennox, Clive Thursday BRI 1.0\n",
      "Owens, John, D Tuesday ACC 1.0\n",
      "Owens, John, D Thursday ACC 1.0\n",
      "Keller, Joe Monday BRI 1.0\n",
      "Keller, Joe Wednesday BRI 1.0\n",
      "Wang, Shiing-Wu Tuesday BRI 1.0\n",
      "Wang, Shiing-Wu Thursday BRI 1.0\n",
      "Erbstoesser, Eugene Monday BRI 1.0\n",
      "Erbstoesser, Eugene Wednesday BRI 1.0\n"
     ]
    }
   ],
   "source": [
    "# make sure that every professor is assigned to one building in the day that they have class\n",
    "# constraint8\n",
    "for f in Prof:\n",
    "    for p in P:\n",
    "        for b in Building:\n",
    "            if PD[f,p,b].x>0:\n",
    "                print f+\" \"+p+\" \"+b+\" \"+str(PD[f,p,b].x)"
   ]
  },
  {
   "cell_type": "code",
   "execution_count": 31,
   "metadata": {},
   "outputs": [
    {
     "name": "stdout",
     "output_type": "stream",
     "text": [
      "Ryan, Tom Friday 1.0\n",
      "Bonner, Sarah, Elizabeth Monday 1.0\n",
      "Bonner, Sarah, Elizabeth Wednesday 1.0\n",
      "Kiddoo, Bob Tuesday 1.0\n",
      "Kiddoo, Bob Thursday 1.0\n",
      "Lennox, Clive Tuesday 1.0\n",
      "Lennox, Clive Thursday 1.0\n",
      "Owens, John, D Tuesday 1.0\n",
      "Owens, John, D Thursday 1.0\n",
      "Keller, Joe Monday 1.0\n",
      "Keller, Joe Wednesday 1.0\n",
      "Wang, Shiing-Wu Tuesday 1.0\n",
      "Wang, Shiing-Wu Thursday 1.0\n",
      "Erbstoesser, Eugene Monday 1.0\n",
      "Erbstoesser, Eugene Wednesday 1.0\n"
     ]
    }
   ],
   "source": [
    "# check every professor's class day\n",
    "# constraint9\n",
    "for f in Prof:\n",
    "    for p in P:\n",
    "        if D[p,f].x>0:\n",
    "            print f+\" \"+p+\" \"+str(D[p,f].x)"
   ]
  },
  {
   "cell_type": "code",
   "execution_count": 32,
   "metadata": {},
   "outputs": [
    {
     "name": "stdout",
     "output_type": "stream",
     "text": [
      "14202 1.0\n",
      "14201 1.0\n",
      "14206 2.0\n",
      "14207 2.0\n",
      "14209 2.0\n",
      "14216 2.0\n",
      "14224 2.0\n",
      "14223 2.0\n",
      "14227 2.0\n",
      "14229 2.0\n",
      "14228 2.0\n",
      "14226 2.0\n",
      "14236 2.0\n",
      "14246 2.0\n",
      "14260 2.0\n"
     ]
    }
   ],
   "source": [
    "# check the number of sessions in prime time of every section\n",
    "# constraint10\n",
    "for i in I:\n",
    "    print str(i)+\" \"+str(PT[i].x)"
   ]
  },
  {
   "cell_type": "code",
   "execution_count": null,
   "metadata": {
    "collapsed": true
   },
   "outputs": [],
   "source": []
  },
  {
   "cell_type": "code",
   "execution_count": null,
   "metadata": {
    "collapsed": true
   },
   "outputs": [],
   "source": []
  }
 ],
 "metadata": {
  "kernelspec": {
   "display_name": "Python 3",
   "language": "python",
   "name": "python3"
  },
  "language_info": {
   "codemirror_mode": {
    "name": "ipython",
    "version": 3
   },
   "file_extension": ".py",
   "mimetype": "text/x-python",
   "name": "python",
   "nbconvert_exporter": "python",
   "pygments_lexer": "ipython3",
   "version": "3.6.3"
  }
 },
 "nbformat": 4,
 "nbformat_minor": 2
}
