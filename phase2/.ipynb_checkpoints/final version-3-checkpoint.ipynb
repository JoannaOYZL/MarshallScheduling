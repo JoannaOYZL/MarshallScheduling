{
 "cells": [
  {
   "cell_type": "markdown",
   "metadata": {},
   "source": [
    "# 570 Final Deliverable"
   ]
  },
  {
   "cell_type": "code",
   "execution_count": 54,
   "metadata": {
    "collapsed": true
   },
   "outputs": [],
   "source": [
    "import gurobipy as grb\n",
    "import pandas as pd\n",
    "import numpy as np\n",
    "import datetime\n",
    "from datetime import time\n",
    "from datetime import timedelta\n",
    "import math\n",
    "import random\n",
    "\n",
    "# for the room capacity file i remove the first record because it is same as the 7th record and will make some error in next step\n",
    "capacity=pd.read_excel(\"Marshall_Room_Capacity_Chart.xlsx\")\n",
    "capacity1=capacity\n",
    "course_enrollment=pd.read_excel(\"Marshall_Course_Enrollment_1516_1617.xlsx\") # for student prediction\n",
    "#course=pd.read_excel(\"Marshall_Course_Enrollment_1516_1617_small.xlsx\")\n",
    "#section_info=pd.read_excel(\"section information.xlsx\")"
   ]
  },
  {
   "cell_type": "code",
   "execution_count": 55,
   "metadata": {},
   "outputs": [
    {
     "data": {
      "text/html": [
       "<div>\n",
       "<style scoped>\n",
       "    .dataframe tbody tr th:only-of-type {\n",
       "        vertical-align: middle;\n",
       "    }\n",
       "\n",
       "    .dataframe tbody tr th {\n",
       "        vertical-align: top;\n",
       "    }\n",
       "\n",
       "    .dataframe thead th {\n",
       "        text-align: right;\n",
       "    }\n",
       "</style>\n",
       "<table border=\"1\" class=\"dataframe\">\n",
       "  <thead>\n",
       "    <tr style=\"text-align: right;\">\n",
       "      <th></th>\n",
       "      <th>Course</th>\n",
       "      <th>Course Prefix</th>\n",
       "      <th>Course Suffix</th>\n",
       "      <th>Department</th>\n",
       "      <th>First Begin Time</th>\n",
       "      <th>First Days</th>\n",
       "      <th>First End Time</th>\n",
       "      <th>First Instructor</th>\n",
       "      <th>First Instructor UID</th>\n",
       "      <th>First Room</th>\n",
       "      <th>...</th>\n",
       "      <th>Second Begin Time</th>\n",
       "      <th>Second Days</th>\n",
       "      <th>Second End Time</th>\n",
       "      <th>Second Instructor</th>\n",
       "      <th>Second Instructor UID</th>\n",
       "      <th>Second Room</th>\n",
       "      <th>Section</th>\n",
       "      <th>Session</th>\n",
       "      <th>Term</th>\n",
       "      <th>Title</th>\n",
       "    </tr>\n",
       "  </thead>\n",
       "  <tbody>\n",
       "    <tr>\n",
       "      <th>0</th>\n",
       "      <td>ACCT-370</td>\n",
       "      <td>ACCT</td>\n",
       "      <td>370</td>\n",
       "      <td>ACCT</td>\n",
       "      <td>10:00:00</td>\n",
       "      <td>F</td>\n",
       "      <td>11:50:00</td>\n",
       "      <td>Hopkins, Merle, W</td>\n",
       "      <td>3.783354e+09</td>\n",
       "      <td>SLH200</td>\n",
       "      <td>...</td>\n",
       "      <td>NaN</td>\n",
       "      <td>NaN</td>\n",
       "      <td>NaN</td>\n",
       "      <td>NaN</td>\n",
       "      <td>NaN</td>\n",
       "      <td>NaN</td>\n",
       "      <td>14029</td>\n",
       "      <td>1</td>\n",
       "      <td>20153</td>\n",
       "      <td>External Financial Reporting Issues</td>\n",
       "    </tr>\n",
       "    <tr>\n",
       "      <th>1</th>\n",
       "      <td>ACCT-370</td>\n",
       "      <td>ACCT</td>\n",
       "      <td>370</td>\n",
       "      <td>ACCT</td>\n",
       "      <td>08:00:00</td>\n",
       "      <td>MW</td>\n",
       "      <td>09:50:00</td>\n",
       "      <td>Hopkins, Merle, W</td>\n",
       "      <td>3.783354e+09</td>\n",
       "      <td>ACC303</td>\n",
       "      <td>...</td>\n",
       "      <td>NaN</td>\n",
       "      <td>NaN</td>\n",
       "      <td>NaN</td>\n",
       "      <td>NaN</td>\n",
       "      <td>NaN</td>\n",
       "      <td>NaN</td>\n",
       "      <td>14025</td>\n",
       "      <td>1</td>\n",
       "      <td>20153</td>\n",
       "      <td>External Financial Reporting Issues</td>\n",
       "    </tr>\n",
       "    <tr>\n",
       "      <th>2</th>\n",
       "      <td>ACCT-370</td>\n",
       "      <td>ACCT</td>\n",
       "      <td>370</td>\n",
       "      <td>ACCT</td>\n",
       "      <td>10:00:00</td>\n",
       "      <td>MW</td>\n",
       "      <td>11:50:00</td>\n",
       "      <td>Hopkins, Merle, W</td>\n",
       "      <td>3.783354e+09</td>\n",
       "      <td>ACC303</td>\n",
       "      <td>...</td>\n",
       "      <td>NaN</td>\n",
       "      <td>NaN</td>\n",
       "      <td>NaN</td>\n",
       "      <td>NaN</td>\n",
       "      <td>NaN</td>\n",
       "      <td>NaN</td>\n",
       "      <td>14026</td>\n",
       "      <td>1</td>\n",
       "      <td>20153</td>\n",
       "      <td>External Financial Reporting Issues</td>\n",
       "    </tr>\n",
       "    <tr>\n",
       "      <th>3</th>\n",
       "      <td>ACCT-370</td>\n",
       "      <td>ACCT</td>\n",
       "      <td>370</td>\n",
       "      <td>ACCT</td>\n",
       "      <td>12:00:00</td>\n",
       "      <td>MW</td>\n",
       "      <td>13:50:00</td>\n",
       "      <td>Hopkins, Merle, W</td>\n",
       "      <td>3.783354e+09</td>\n",
       "      <td>ACC303</td>\n",
       "      <td>...</td>\n",
       "      <td>NaN</td>\n",
       "      <td>NaN</td>\n",
       "      <td>NaN</td>\n",
       "      <td>NaN</td>\n",
       "      <td>NaN</td>\n",
       "      <td>NaN</td>\n",
       "      <td>14027</td>\n",
       "      <td>1</td>\n",
       "      <td>20153</td>\n",
       "      <td>External Financial Reporting Issues</td>\n",
       "    </tr>\n",
       "    <tr>\n",
       "      <th>4</th>\n",
       "      <td>ACCT-371</td>\n",
       "      <td>ACCT</td>\n",
       "      <td>371</td>\n",
       "      <td>ACCT</td>\n",
       "      <td>10:00:00</td>\n",
       "      <td>F</td>\n",
       "      <td>11:50:00</td>\n",
       "      <td>NaN</td>\n",
       "      <td>NaN</td>\n",
       "      <td>SLH200</td>\n",
       "      <td>...</td>\n",
       "      <td>NaN</td>\n",
       "      <td>NaN</td>\n",
       "      <td>NaN</td>\n",
       "      <td>NaN</td>\n",
       "      <td>NaN</td>\n",
       "      <td>NaN</td>\n",
       "      <td>14044</td>\n",
       "      <td>1</td>\n",
       "      <td>20153</td>\n",
       "      <td>Introduction to Accounting Systems</td>\n",
       "    </tr>\n",
       "  </tbody>\n",
       "</table>\n",
       "<p>5 rows × 26 columns</p>\n",
       "</div>"
      ],
      "text/plain": [
       "     Course Course Prefix Course Suffix Department First Begin Time  \\\n",
       "0  ACCT-370          ACCT           370       ACCT         10:00:00   \n",
       "1  ACCT-370          ACCT           370       ACCT         08:00:00   \n",
       "2  ACCT-370          ACCT           370       ACCT         10:00:00   \n",
       "3  ACCT-370          ACCT           370       ACCT         12:00:00   \n",
       "4  ACCT-371          ACCT           371       ACCT         10:00:00   \n",
       "\n",
       "  First Days First End Time   First Instructor  First Instructor UID  \\\n",
       "0          F       11:50:00  Hopkins, Merle, W          3.783354e+09   \n",
       "1         MW       09:50:00  Hopkins, Merle, W          3.783354e+09   \n",
       "2         MW       11:50:00  Hopkins, Merle, W          3.783354e+09   \n",
       "3         MW       13:50:00  Hopkins, Merle, W          3.783354e+09   \n",
       "4          F       11:50:00                NaN                   NaN   \n",
       "\n",
       "  First Room                 ...                  Second Begin Time  \\\n",
       "0     SLH200                 ...                                NaN   \n",
       "1     ACC303                 ...                                NaN   \n",
       "2     ACC303                 ...                                NaN   \n",
       "3     ACC303                 ...                                NaN   \n",
       "4     SLH200                 ...                                NaN   \n",
       "\n",
       "   Second Days  Second End Time Second Instructor  Second Instructor UID  \\\n",
       "0          NaN              NaN               NaN                    NaN   \n",
       "1          NaN              NaN               NaN                    NaN   \n",
       "2          NaN              NaN               NaN                    NaN   \n",
       "3          NaN              NaN               NaN                    NaN   \n",
       "4          NaN              NaN               NaN                    NaN   \n",
       "\n",
       "   Second Room Section Session   Term                                Title  \n",
       "0          NaN   14029       1  20153  External Financial Reporting Issues  \n",
       "1          NaN   14025       1  20153  External Financial Reporting Issues  \n",
       "2          NaN   14026       1  20153  External Financial Reporting Issues  \n",
       "3          NaN   14027       1  20153  External Financial Reporting Issues  \n",
       "4          NaN   14044       1  20153   Introduction to Accounting Systems  \n",
       "\n",
       "[5 rows x 26 columns]"
      ]
     },
     "execution_count": 55,
     "metadata": {},
     "output_type": "execute_result"
    }
   ],
   "source": [
    "course_enrollment.head()"
   ]
  },
  {
   "cell_type": "markdown",
   "metadata": {},
   "source": [
    "## Extra data from original dataset"
   ]
  },
  {
   "cell_type": "code",
   "execution_count": null,
   "metadata": {
    "collapsed": true
   },
   "outputs": [],
   "source": []
  },
  {
   "cell_type": "code",
   "execution_count": 56,
   "metadata": {
    "collapsed": true
   },
   "outputs": [],
   "source": [
    "# choose 20153 term as sample\n",
    "data=course_enrollment.loc[course_enrollment.loc[:,\"Term\"]==20153,(\"Course\",\"Section\",\"First Days\",\"First Begin Time\",\"First End Time\",\n",
    "                                                                   \"First Room\",\"First Instructor\",\"Reg Count\",\"Seats\")]\n",
    "data.columns=[\"Course\",\"Section\",\"FirstDays\",\"FirstBeginTime\",\"FirstEndTime\",\"FirstRoom\",\"FirstInstructor\",\"regcount\",\"Seats\"]\n",
    "# we only use those M/T/W/H/F/MW/TH\n",
    "data=data[(data.FirstDays==\"M\")|(data.FirstDays==\"T\")|(data.FirstDays==\"W\")|(data.FirstDays==\"H\")|(data.FirstDays==\"F\")|(data.FirstDays==\"MW\")|(data.FirstDays==\"TH\")]\n",
    "data=data[(data.FirstRoom!=\"ONLINE\")&(data.FirstRoom!=\"DEN@Viterbi\")]\n",
    "# remove the record that have nan in first begintime\n",
    "data=data[(data.FirstBeginTime==data.FirstBeginTime)|(data.FirstEndTime==data.FirstEndTime)]\n",
    "# remove the record that have nan in professor\n",
    "data=data[data.FirstInstructor==data.FirstInstructor]\n",
    "#data=data.loc[:,(\"Course\",\"Section\",\"FirstDays\",\"FirstBeginTime\",\"FirstEndTime\",\"FirstInstructor\",\"FirstRoom\",\"regcount\")]"
   ]
  },
  {
   "cell_type": "code",
   "execution_count": 57,
   "metadata": {
    "collapsed": true
   },
   "outputs": [],
   "source": [
    "# timelength\n",
    "timelength=[]\n",
    "for i in data.index:\n",
    "    #print i\n",
    "    #print data.loc[i,:]\n",
    "    #print data.loc[i,:]\n",
    "    time1=data.loc[i,\"FirstEndTime\"]\n",
    "    #print type(time1)\n",
    "    time2=data.loc[i,\"FirstBeginTime\"]\n",
    "    minutediff=((time1.hour*60+time1.minute)-(time2.hour*60+time2.minute)+10)\n",
    "    halfhour=minutediff/30\n",
    "    if minutediff%30>0:\n",
    "        halfhour+=1\n",
    "    timelength.append(halfhour)"
   ]
  },
  {
   "cell_type": "code",
   "execution_count": 58,
   "metadata": {
    "collapsed": true
   },
   "outputs": [],
   "source": [
    "# pattern\n",
    "pattern=[]\n",
    "for i in data.index:\n",
    "    day=data.loc[i,\"FirstDays\"]\n",
    "    if (day==\"M\") or (day==\"T\") or (day==\"W\") or (day==\"H\") or (day==\"F\"):\n",
    "        #print day\n",
    "        pattern.append(1)\n",
    "    elif (day==\"MW\") or (day==\"TH\"):\n",
    "        #print day\n",
    "        pattern.append(2)"
   ]
  },
  {
   "cell_type": "code",
   "execution_count": 59,
   "metadata": {
    "collapsed": true
   },
   "outputs": [],
   "source": [
    "# students' registeration prediction\n",
    "student={}\n",
    "for i in data[\"Section\"]:\n",
    "    sum1=sum(course_enrollment.loc[course_enrollment.loc[:,\"Section\"]==i,\"Reg Count\"])\n",
    "    len1=len(course_enrollment.loc[course_enrollment.loc[:,\"Section\"]==i,\"Reg Count\"])\n",
    "    student[i]=round(sum1/len1)"
   ]
  },
  {
   "cell_type": "markdown",
   "metadata": {},
   "source": [
    "Use the \"section_info=section_info[section_info.timelength<=2]\" below to control the size of dataset (change value of 2), i only tried small one"
   ]
  },
  {
   "cell_type": "code",
   "execution_count": 60,
   "metadata": {},
   "outputs": [
    {
     "name": "stdout",
     "output_type": "stream",
     "text": [
      "8\n",
      "514\n"
     ]
    }
   ],
   "source": [
    "# build section_info table\n",
    "section_info=pd.DataFrame({\"course\":data[\"Course\"],\"section\":data[\"Section\"],\"pattern\":pattern,\n",
    "                           \"timelength\":timelength,\"FirstInstructor\":data[\"FirstInstructor\"],\n",
    "                           \"Reg Count\":student.values()})\n",
    "# we only use those timelength less than or equal to 4 hours\n",
    "section_info=section_info[section_info.timelength<=8]\n",
    "# build table of professor and sections\n",
    "Prof=section_info[\"FirstInstructor\"].unique()\n",
    "professor={}\n",
    "for i in Prof:\n",
    "    professor[i]=section_info.loc[section_info.loc[:,\"FirstInstructor\"]==i,\"section\"]\n",
    "print max(section_info[\"timelength\"])\n",
    "print len(section_info)\n",
    "#print section_info.index\n",
    "# for change the index, do not delete \n",
    "section_info.index=range(len(section_info))\n",
    "# get how many sessions we have in this sechedule\n",
    "numofsections=sum(section_info[\"pattern\"])\n",
    "numofprof=len(Prof)"
   ]
  },
  {
   "cell_type": "markdown",
   "metadata": {},
   "source": [
    "### change the size of sample dataset"
   ]
  },
  {
   "cell_type": "code",
   "execution_count": 61,
   "metadata": {},
   "outputs": [
    {
     "name": "stdout",
     "output_type": "stream",
     "text": [
      "140\n",
      "60\n"
     ]
    }
   ],
   "source": [
    "# select a subset of section id \n",
    "# only keep those classes with reg count less than 150, so ll105 can meet the need of seats\n",
    "section_info=section_info.loc[section_info.loc[:,\"Reg Count\"]<=149,:]#77\n",
    "section_info=section_info.reset_index(drop=True)\n",
    "# randomly choose 100 sections\n",
    "random.seed(1)\n",
    "indexofsection=random.sample(section_info.index,85)\n",
    "section_info=section_info.iloc[indexofsection,:]\n",
    "section_info=section_info.reset_index(drop=True)\n",
    "#section_info=section_info.iloc[range(30),:]\n",
    "#reset dataframe's index \n",
    "\n",
    "\n",
    "Prof=section_info[\"FirstInstructor\"].unique()\n",
    "professor={}\n",
    "for i in Prof:\n",
    "    professor[i]=section_info.loc[section_info.loc[:,\"FirstInstructor\"]==i,\"section\"]\n",
    "numofsections=sum(section_info[\"pattern\"])\n",
    "numofprof=len(Prof)\n",
    "print numofsections\n",
    "print numofprof"
   ]
  },
  {
   "cell_type": "code",
   "execution_count": 66,
   "metadata": {},
   "outputs": [
    {
     "name": "stdout",
     "output_type": "stream",
     "text": [
      "\n",
      "\n",
      "no time 9.69407894737\n",
      "\n",
      "\n",
      "no time 8.4\n"
     ]
    }
   ],
   "source": [
    "# as we just use a 100 sections from origional dataset, we try to manully choose available classroom to make the ratio of \n",
    "# of registed student and # of available seats similiar for origional and new subset data\n",
    "course20153=course_enrollment.loc[course_enrollment.loc[:,\"Term\"]==20153,:]\n",
    "course20153=course20153[(course20153.loc[:,\"First End Time\"]==course20153.loc[:,\"First End Time\"])&\n",
    "                        (course20153.loc[:,\"First Begin Time\"]==course20153.loc[:,\"First Begin Time\"])]\n",
    "course20153=course20153.loc[course20153.loc[:,\"Reg Count\"]<=149,:]\n",
    "\n",
    "\n",
    "# calculate timelength for 20153\n",
    "timelength=[]\n",
    "for i in course20153.index:\n",
    "    time1=course20153.loc[i,\"First End Time\"]\n",
    "    time2=course20153.loc[i,\"First Begin Time\"]\n",
    "    minutediff=((time1.hour*60+time1.minute)-(time2.hour*60+time2.minute)+10)\n",
    "    halfhour=minutediff/30\n",
    "    if minutediff%30>0:\n",
    "        halfhour+=1\n",
    "    timelength.append(halfhour)\n",
    "course20153.loc[:,\"timelength\"]=timelength\n",
    "\n",
    "# origional ratio of registered student and number of seats\n",
    "ratio1=float(sum(course20153[\"Reg Count\"]))/(sum(capacity1[\"Size\"]))\n",
    "print \"\\n\"\n",
    "print \"no time \"+str(ratio1)\n",
    "# manully choose classroom to make the new ratio is similiar to the origional ratio\n",
    "capacity=pd.DataFrame({\"Room\":[\"JFF LL105\",\"JFF414\",\"ACC201\",\"JKP104\",\"ACC312\",\"BRI5\"],\n",
    "                       \"Size\":[149,60,48,56,20,42\n",
    "                              ]})\n",
    "#capacity=pd.DataFrame({\"Room\":[\"JKP110\",\"HOH1\",\"JFF414\",\"ACC201\",\"JKP104\",\"BRI202\"#\"ACC201\",\"ACC205\",\"BRI202\",\"JFF414\",\n",
    " #                              ],\n",
    "  #                     \"Size\":[77,73,60,48,56,42#48,36,42,73,60,\n",
    "   #                           ]})\n",
    "\n",
    "#capacity=pd.DataFrame({\"Room\":[\"JFF LL105\"],\"Size\":[149]})\n",
    "ratio2=sum(section_info[\"Reg Count\"])/sum(capacity[\"Size\"])\n",
    "print \"\\n\"\n",
    "print \"no time \"+str(ratio2)"
   ]
  },
  {
   "cell_type": "code",
   "execution_count": 67,
   "metadata": {
    "collapsed": true
   },
   "outputs": [],
   "source": [
    "#capacity=pd.DataFrame({\"Room\":[\"JFF LL105\"],\"Size\":[149]})"
   ]
  },
  {
   "cell_type": "markdown",
   "metadata": {},
   "source": [
    "## Build variables"
   ]
  },
  {
   "cell_type": "code",
   "execution_count": 68,
   "metadata": {
    "collapsed": true
   },
   "outputs": [],
   "source": [
    "# What we need to extract from data\n",
    "# prediction about student registeration for every section\n",
    "# how many section we need to schedule\n",
    "# the pattern, time length of each section\n",
    "# classroom capacity\n",
    "\n",
    "# Variables\n",
    "# course name\n",
    "C={}\n",
    "index=0\n",
    "for i in section_info[\"section\"]:\n",
    "    C[i]=section_info.loc[section_info.loc[:,\"section\"]==i,\"course\"].get(index)\n",
    "    index+=1\n",
    "# section of course\n",
    "I=section_info[\"section\"]\n",
    "# classroom\n",
    "J=capacity[\"Room\"]\n",
    "# pattern of session (less than catagories in origional dataset)\n",
    "P=[\"Monday\",\"Tuesday\",\"Wednesday\",\"Thursday\",\"Friday\"]\n",
    "P=pd.Series(i for i in P)\n",
    "# start time of session (from 8:00am to 9:00pm,so the real classtime is between 8:00am to 10:00pm)\n",
    "T1={}\n",
    "time = datetime.timedelta(hours=8,minutes=0, seconds=0)\n",
    "for i in range(27):\n",
    "    T1[str(time+timedelta(hours=0.5*i))]=i\n",
    "T=pd.Series(i for i in range(27))\n",
    "\n",
    "# students' registeration prediction\n",
    "student={}\n",
    "for i in I:\n",
    "    sum1=sum(course_enrollment.loc[course_enrollment.loc[:,\"Section\"]==i,\"Reg Count\"])\n",
    "    len1=len(course_enrollment.loc[course_enrollment.loc[:,\"Section\"]==i,\"Reg Count\"])\n",
    "    student[i]=round(sum1/len1)\n",
    "#student=pd.Series(i for i in student)\n",
    "\n",
    "# seat\n",
    "seat={}\n",
    "for index,row in capacity.iterrows():\n",
    "    seat[row[\"Room\"]]=row[\"Size\"]\n",
    "#seat=pd.Series(i for i in seat)\n",
    "    \n",
    "# pattern of each section\n",
    "PS={}\n",
    "index=0\n",
    "for i in I:\n",
    "    PS[i]=section_info.loc[section_info.loc[:,\"section\"]==i,\"pattern\"].get(index)\n",
    "    index+=1\n",
    "#PS=pd.Series(i for i in PS)\n",
    "    \n",
    "# timelength of each section\n",
    "TS={}\n",
    "index=0\n",
    "for i in I:\n",
    "    TS[i]=section_info.loc[section_info.loc[:,\"section\"]==i,\"timelength\"].get(index)\n",
    "    index+=1\n",
    "#TS=pd.Series(i for i in TS)\n",
    "\n",
    "#define primetime\n",
    "primetime=range(5,21)"
   ]
  },
  {
   "cell_type": "code",
   "execution_count": 69,
   "metadata": {
    "scrolled": true
   },
   "outputs": [
    {
     "data": {
      "text/html": [
       "<div>\n",
       "<style scoped>\n",
       "    .dataframe tbody tr th:only-of-type {\n",
       "        vertical-align: middle;\n",
       "    }\n",
       "\n",
       "    .dataframe tbody tr th {\n",
       "        vertical-align: top;\n",
       "    }\n",
       "\n",
       "    .dataframe thead th {\n",
       "        text-align: right;\n",
       "    }\n",
       "</style>\n",
       "<table border=\"1\" class=\"dataframe\">\n",
       "  <thead>\n",
       "    <tr style=\"text-align: right;\">\n",
       "      <th></th>\n",
       "      <th>Room</th>\n",
       "      <th>Size</th>\n",
       "    </tr>\n",
       "  </thead>\n",
       "  <tbody>\n",
       "    <tr>\n",
       "      <th>0</th>\n",
       "      <td>JFF LL105</td>\n",
       "      <td>149</td>\n",
       "    </tr>\n",
       "    <tr>\n",
       "      <th>1</th>\n",
       "      <td>JFF414</td>\n",
       "      <td>60</td>\n",
       "    </tr>\n",
       "    <tr>\n",
       "      <th>2</th>\n",
       "      <td>ACC201</td>\n",
       "      <td>48</td>\n",
       "    </tr>\n",
       "    <tr>\n",
       "      <th>3</th>\n",
       "      <td>JKP104</td>\n",
       "      <td>56</td>\n",
       "    </tr>\n",
       "    <tr>\n",
       "      <th>4</th>\n",
       "      <td>ACC312</td>\n",
       "      <td>20</td>\n",
       "    </tr>\n",
       "    <tr>\n",
       "      <th>5</th>\n",
       "      <td>BRI5</td>\n",
       "      <td>42</td>\n",
       "    </tr>\n",
       "  </tbody>\n",
       "</table>\n",
       "</div>"
      ],
      "text/plain": [
       "        Room  Size\n",
       "0  JFF LL105   149\n",
       "1     JFF414    60\n",
       "2     ACC201    48\n",
       "3     JKP104    56\n",
       "4     ACC312    20\n",
       "5       BRI5    42"
      ]
     },
     "execution_count": 69,
     "metadata": {},
     "output_type": "execute_result"
    }
   ],
   "source": [
    "capacity"
   ]
  },
  {
   "cell_type": "markdown",
   "metadata": {},
   "source": [
    "## Build Model"
   ]
  },
  {
   "cell_type": "code",
   "execution_count": 70,
   "metadata": {
    "collapsed": true
   },
   "outputs": [],
   "source": [
    "# Building model\n",
    "mod=grb.Model()"
   ]
  },
  {
   "cell_type": "markdown",
   "metadata": {},
   "source": [
    "## Decision Variables"
   ]
  },
  {
   "cell_type": "code",
   "execution_count": 71,
   "metadata": {
    "collapsed": true
   },
   "outputs": [],
   "source": [
    "X={}\n",
    "for i in I: # section id\n",
    "    for j in J: # classroom\n",
    "        for p in P: # day of week\n",
    "             for t in T: # start timeslot of sesstion\n",
    "                    X[i,j,p,t]=mod.addVar(vtype=grb.GRB.BINARY, name='x[{0},{1},{2},{3}]'.format(i,j,p,t))\n",
    "\n",
    "                    \n",
    "# add one more variable PD[f,p,b], f is faculty(professor), p is day of week, b is the building\n",
    "# PD[f,p,b]=1 means that prof f in p day has class in building b \n",
    "PD={}\n",
    "Building=[\"ACC\",\"BRI\",\"HOH\",\"JFF\",\"JKP\"]\n",
    "for f in Prof:\n",
    "    for p in P:\n",
    "        for b in Building:\n",
    "            PD[f,p,b]=mod.addVar(vtype=grb.GRB.BINARY,name='PD[{0},{1},{2}]'.format(f,p,b))\n",
    "\n",
    "# add one more numeric variable Dp,f means that professor f have to show up in campus in p day of week\n",
    "D={}\n",
    "for f in Prof:\n",
    "    for p in P:\n",
    "        D[p,f]=mod.addVar(vtype=grb.GRB.BINARY,name='x[{0}]'.format(p))\n",
    "\n",
    "#add one more varible PTi. PTi means that how many sessions of section i are in prime time\n",
    "PT={}\n",
    "for i in I:\n",
    "    PT[i]=mod.addVar(vtype=grb.GRB.INTEGER,name='PT[{0}]'.format(i))\n",
    "\n",
    "#whether class i is still in session in classroom j at day p at time t\n",
    "y=mod.addVars(I,J,P,T,vtype=grb.GRB.BINARY)\n",
    "\n"
   ]
  },
  {
   "cell_type": "markdown",
   "metadata": {},
   "source": [
    "## Objective"
   ]
  },
  {
   "cell_type": "code",
   "execution_count": 72,
   "metadata": {
    "collapsed": true
   },
   "outputs": [],
   "source": [
    "# Objective\n",
    "# As i set the constraint1 below, so the section with 2 or 3 sessions will have higher weight here\n",
    "# but if i do not set constraint1, we cannot promise other sections will not take the vacancy\n",
    "# for example, if DSO570 assigned to M/W 12:00, namely X[DSO570,j,\"MW\",12:00]=1, but X[i,j,\"M\",12:00]=0 and X[i,j,\"W\",12:00]=0, \n",
    "# so other courses maight be assign to this time too\n",
    "mod.setObjective((\n",
    "    # classroom utilization (max)\n",
    "    10*sum(X[i,j,p,t]*student[i]/seat[j] for i in I for j in J for p in P for t in T)/numofsections\n",
    "    # number of days that professor has class (min)\n",
    "    -sum(D[p,f] for f in Prof for p in P)/numofprof\n",
    "    # number of buildings that professor need to go in anyday that he has class (min\n",
    "    -sum(PD[f,p,b] for f in Prof for p in P for b in Building)/numofprof\n",
    "    # prime time utilization (max)\n",
    "    +5*sum(PT[i] for i in I)/numofsections\n",
    "),sense=grb.GRB.MAXIMIZE)"
   ]
  },
  {
   "cell_type": "markdown",
   "metadata": {},
   "source": [
    "## Constraints"
   ]
  },
  {
   "cell_type": "code",
   "execution_count": 73,
   "metadata": {
    "collapsed": true
   },
   "outputs": [],
   "source": [
    "# constraints\n",
    "I_twoday=pd.Series()\n",
    "I_oneday=pd.Series()\n",
    "for i in I:\n",
    "    if PS.get(i)==1:\n",
    "        I_oneday=I_oneday.append(pd.Series(i))\n",
    "    else:\n",
    "        I_twoday=I_twoday.append(pd.Series(i))"
   ]
  },
  {
   "cell_type": "code",
   "execution_count": 74,
   "metadata": {
    "collapsed": true
   },
   "outputs": [],
   "source": [
    "# constraint1\n",
    "# in each time slot in each day every professor can only teach one session at the same time\n",
    "constraint1={}\n",
    "for t in T:\n",
    "    for p in P:\n",
    "        for prof in Prof:\n",
    "            constraint1[t,p,prof]=mod.addConstr(sum(X[i,j,p,t] for i in professor[prof].values for j in J)<=1)\n",
    "            "
   ]
  },
  {
   "cell_type": "code",
   "execution_count": 75,
   "metadata": {
    "collapsed": true
   },
   "outputs": [],
   "source": [
    "# new constraint2\n",
    "# every timeslot in every classroom in a specific day, there will be only one or zero class\n",
    "#constraint2={}\n",
    "#for j in J:\n",
    " #   for t in T:\n",
    "  #      for p in P:\n",
    "   #         constraint2[j,t,p]=mod.addConstr(sum(X[i,j,p,t] for i in I)<=1)\n",
    "            \n",
    "# in the next (number of required sessions)*2 timeslot all of X should be 0\n",
    "\n",
    "# for i1 in I:\n",
    "#     I2=I\n",
    "#     I2=I2.drop(pd.Index(I).get_loc(i1))\n",
    "#     for j in J:\n",
    "#         for t in T:\n",
    "#             for p in P:\n",
    "#                 timeslots=int(TS[i1])\n",
    "#                 if t<=(27-timeslots): # avoid a situation that three hours course is assigned to 8:00 pm\n",
    "#                     #print i1,j,p,t\n",
    "#                     constraint2[i1,j,t,p]=mod.addConstr((X[i1,j,p,t]+sum(X[i2,j,p,t+num] for i2 in I2 for num in range(0,timeslots)))<=1,name=\"Problem {0} {1} {2} {3}\".format(i1,j,p,t))\n",
    "                    \n",
    "                    "
   ]
  },
  {
   "cell_type": "code",
   "execution_count": 76,
   "metadata": {
    "collapsed": true
   },
   "outputs": [],
   "source": [
    " for i in I:\n",
    "    for j in J:\n",
    "        for t in T:\n",
    "            for p in P:\n",
    "                timeslots=int(TS[i])\n",
    "                mod.addConstr(y[i,j,p,t]==sum(X[i,j,p,t2] for t2 in range(max(0,t-timeslots+1),t+1)),name=\"constrain2_\"+str(i))\n",
    "#for i in I:\n",
    " #   for j in J:\n",
    "  #      for t in T:\n",
    "   #         for p in P:\n",
    "    #            timeslots=int(TS[i])\n",
    "     #           mod.addConstr(y[i,j,p,t]==sum(X[i,j,p,t2] for t2 in range(t,min(27,t+timeslots-1))))\n",
    "\n",
    "\n",
    "\n",
    "for j in J:\n",
    "    for t in T:\n",
    "        for p in P:\n",
    "            mod.addConstr(sum(y[i,j,p,t] for i in I)<=1)\n"
   ]
  },
  {
   "cell_type": "code",
   "execution_count": 77,
   "metadata": {
    "collapsed": true
   },
   "outputs": [],
   "source": [
    "# this constraint3 is only for those sections whose pattern is 2, which means they have two session every week.\n",
    "constraint3={}\n",
    "for i in I_twoday:\n",
    "    for j in J:\n",
    "        for t in T:\n",
    "            constraint3[i,j,\"M\",t]=mod.addConstr(X[i,j,\"Wednesday\",t]== X[i,j,\"Monday\",t],name=\"\") \n",
    "            # the section with two sessions must have same 0/1 in M and W\n",
    "            \n",
    "            constraint3[i,j,\"T\",t]=mod.addConstr(X[i,j,\"Thursday\",t] == X[i,j,\"Tuesday\",t],name=\"\") \n",
    "            # the section with two sessions must have same 0/1 in M and W"
   ]
  },
  {
   "cell_type": "code",
   "execution_count": 78,
   "metadata": {
    "collapsed": true
   },
   "outputs": [],
   "source": [
    "# this constraint4 is to control that when we maximum the utilization rate,the number of student registered \n",
    "#for one section should less than the classroom capacity\n",
    "constraint4={}\n",
    "for i in I:\n",
    "    for j in J:\n",
    "        for p in P:\n",
    "             for t in T:\n",
    "                    constraint4[i,j,p,t]=mod.addConstr(X[i,j,p,t]*student[i]<=seat[j],name=\"\")\n",
    "                    "
   ]
  },
  {
   "cell_type": "code",
   "execution_count": 79,
   "metadata": {
    "collapsed": true
   },
   "outputs": [],
   "source": [
    "# this constraint5 is to make sure that in all time in all classroom in all day, \n",
    "#for each section, sum(X)=required sessions\n",
    "constraint5={}\n",
    "for i in I:\n",
    "    constraint5[i]=mod.addConstr(sum(X[i,j,p,t] for j in J for p in P for t in T)==PS.get(i),name=\"\")    "
   ]
  },
  {
   "cell_type": "code",
   "execution_count": null,
   "metadata": {
    "collapsed": true
   },
   "outputs": [],
   "source": []
  },
  {
   "cell_type": "code",
   "execution_count": 80,
   "metadata": {
    "collapsed": true
   },
   "outputs": [],
   "source": [
    "#constraint6: No Friday class for MW and TH section\n",
    "constraint6={}\n",
    "for i in I_twoday:\n",
    "    constraint6[i] = mod.addConstr(sum(X[i,j,\"Friday\",t] for j in J for t in T) == 0) "
   ]
  },
  {
   "cell_type": "code",
   "execution_count": 82,
   "metadata": {
    "collapsed": true
   },
   "outputs": [],
   "source": [
    "#constraint7:no class can last longer than the '9PM-9.30PM' block\n",
    "constraint7={}\n",
    "for i in I:\n",
    "    constraint7[i] = mod.addConstr(sum(X[i,j,p,T.max()-ts] for j in J for p in P for ts in range(int(TS[i])-1))<=0)\n",
    "    "
   ]
  },
  {
   "cell_type": "code",
   "execution_count": 83,
   "metadata": {
    "collapsed": true
   },
   "outputs": [],
   "source": [
    "# building to classroom\n",
    "ACC=[]\n",
    "BRI=[]\n",
    "HOH=[]\n",
    "JFF=[]\n",
    "JKP=[]\n",
    "for j in J:\n",
    "    if j[0:3]==\"ACC\":\n",
    "        ACC.append(j)\n",
    "    elif j[0:3]==\"BRI\":\n",
    "        BRI.append(j)\n",
    "    elif j[0:3]==\"HOH\":\n",
    "        HOH.append(j)\n",
    "    elif j[0:3]==\"JFF\":\n",
    "        JFF.append(j)\n",
    "    elif j[0:3]==\"JKP\":\n",
    "        JKP.append(j)\n",
    "BtoC={\"ACC\":ACC,\"BRI\":BRI,\"HOH\":HOH,\"JFF\":JFF,\"JKP\":JKP}"
   ]
  },
  {
   "cell_type": "code",
   "execution_count": 84,
   "metadata": {
    "collapsed": true
   },
   "outputs": [],
   "source": [
    "# constraint8 for each professor, make them teach in same building for everyday they teach\n",
    "constraint8={}\n",
    "\n",
    "for f in Prof:\n",
    "    for p in P:\n",
    "        for b in Building:\n",
    "            courses=professor.get(f)\n",
    "            classrooms=BtoC.get(b)\n",
    "            for i in courses:\n",
    "                for j in classrooms:\n",
    "                    for t in T:\n",
    "                        constraint8[f,p,b,i,j,t]=mod.addConstr(PD[f,p,b]>=X[i,j,p,t])\n",
    "                        \n",
    "                        \n",
    "for f in Prof:\n",
    "    for p in P:\n",
    "        mod.addConstr(sum(PD[f,p,b] for b in Building)<=1)\n",
    "        "
   ]
  },
  {
   "cell_type": "code",
   "execution_count": 85,
   "metadata": {
    "collapsed": true
   },
   "outputs": [],
   "source": [
    "# constraint9 is to minimum the day that professor show in campus\n",
    "constraint9={}\n",
    "\n",
    "for f in Prof:\n",
    "    for p in P:\n",
    "        for i in professor.get(f):\n",
    "            constraint9[f,p,i]=mod.addConstr(sum(X[i,j,p,t] for j in J for t in T)<=D[p,f])    \n",
    "            "
   ]
  },
  {
   "cell_type": "code",
   "execution_count": 86,
   "metadata": {
    "collapsed": true
   },
   "outputs": [],
   "source": [
    "#constraint10 is to maximum the prime time of classrooms used by the course schedule\n",
    "constraint10={}\n",
    "for i in I:\n",
    "    #print i\n",
    "    constraint10[i]=mod.addConstr(sum(X[i,j,p,t] for j in J for p in P for t in primetime if(t+TS[i])<=20)>=PT[i])\n"
   ]
  },
  {
   "cell_type": "code",
   "execution_count": 87,
   "metadata": {
    "collapsed": true
   },
   "outputs": [],
   "source": [
    "#print \"number of constrints \"+str(len(constraint10)+len(constraint9)+len(constraint8)+len(constraint7)+len(constraint6)+len(constraint5)+len(constraint4)+len(constraint3)+len(constraint2)+len(constraint1))"
   ]
  },
  {
   "cell_type": "markdown",
   "metadata": {},
   "source": [
    "## Best solution output"
   ]
  },
  {
   "cell_type": "code",
   "execution_count": 88,
   "metadata": {
    "scrolled": true
   },
   "outputs": [
    {
     "name": "stdout",
     "output_type": "stream",
     "text": [
      "Optimize a model with 234315 rows, 139585 columns and 905670 nonzeros\n",
      "Variable types: 0 continuous, 139585 integer (139500 binary)\n",
      "Coefficient statistics:\n",
      "  Matrix range     [1e+00, 8e+01]\n",
      "  Objective range  [3e-03, 3e-01]\n",
      "  Bounds range     [1e+00, 1e+00]\n",
      "  RHS range        [1e+00, 1e+02]\n",
      "Presolve removed 203387 rows and 84806 columns (presolve time = 5s) ...\n",
      "Presolve removed 213681 rows and 95208 columns (presolve time = 10s) ...\n",
      "Presolve removed 222581 rows and 104108 columns\n",
      "Presolve time: 14.61s\n",
      "Presolved: 11734 rows, 35477 columns, 253154 nonzeros\n",
      "Variable types: 0 continuous, 35477 integer (35477 binary)\n",
      "\n",
      "Deterministic concurrent LP optimizer: primal and dual simplex\n",
      "Showing first log only...\n",
      "\n",
      "Presolve removed 2000 rows and 2000 columns\n",
      "Presolved: 9734 rows, 33477 columns, 249154 nonzeros\n",
      "\n",
      "Presolve removed 2144 rows and 2277 columns\n",
      "\n",
      "Root simplex log...\n",
      "\n",
      "Iteration    Objective       Primal Inf.    Dual Inf.      Time\n",
      "       0    6.6645554e+00   4.300000e+01   6.583001e+09     16s\n",
      "Concurrent spin time: 0.00s\n",
      "\n",
      "Solved with dual simplex\n",
      "\n",
      "Root relaxation: objective 8.055603e+00, 14239 iterations, 4.39 seconds\n",
      "Total elapsed time = 20.00s\n",
      "\n",
      "    Nodes    |    Current Node    |     Objective Bounds      |     Work\n",
      " Expl Unexpl |  Obj  Depth IntInf | Incumbent    BestBd   Gap | It/Node Time\n",
      "\n",
      "     0     0    8.05560    0  283          -    8.05560      -     -   20s\n",
      "     0     0    8.04795    0  413          -    8.04795      -     -   22s\n",
      "     0     0    8.04795    0  506          -    8.04795      -     -   22s\n",
      "     0     0    8.04295    0  662          -    8.04295      -     -   24s\n",
      "H    0     0                       7.0156739    8.04295  14.6%     -   24s\n",
      "H    0     0                       7.5515357    8.04295  6.51%     -   25s\n",
      "H    0     0                       7.8226667    8.04295  2.82%     -   28s\n",
      "     0     0    8.04295    0  642    7.82267    8.04295  2.82%     -   28s\n",
      "     0     0    8.04152    0  624    7.82267    8.04152  2.80%     -   28s\n",
      "H    0     0                       7.8366973    8.04152  2.61%     -   30s\n",
      "     0     0    8.04152    0  637    7.83670    8.04152  2.61%     -   30s\n",
      "     0     0    8.04072    0  702    7.83670    8.04072  2.60%     -   31s\n",
      "     0     0    8.04072    0  621    7.83670    8.04072  2.60%     -   31s\n",
      "     0     0    8.03695    0  758    7.83670    8.03695  2.56%     -   32s\n",
      "     0     0    8.03683    0  774    7.83670    8.03683  2.55%     -   32s\n",
      "     0     0    8.03226    0  764    7.83670    8.03226  2.50%     -   33s\n",
      "     0     0    8.02713    0  702    7.83670    8.02713  2.43%     -   34s\n",
      "     0     0    8.02702    0  730    7.83670    8.02702  2.43%     -   34s\n",
      "     0     0    8.02303    0  817    7.83670    8.02303  2.38%     -   35s\n",
      "     0     0    8.02301    0  840    7.83670    8.02301  2.38%     -   36s\n",
      "     0     0    8.02171    0  764    7.83670    8.02171  2.36%     -   36s\n",
      "     0     0    8.01989    0  814    7.83670    8.01989  2.34%     -   37s\n",
      "     0     0    8.01987    0  809    7.83670    8.01987  2.34%     -   38s\n",
      "     0     0    8.01983    0  796    7.83670    8.01983  2.34%     -   38s\n",
      "     0     0    8.01857    0  802    7.83670    8.01857  2.32%     -   39s\n",
      "     0     0    8.01755    0  408    7.83670    8.01755  2.31%     -   41s\n",
      "     0     0    8.01597    0  695    7.83670    8.01597  2.29%     -   42s\n",
      "     0     0    8.01391    0  548    7.83670    8.01391  2.26%     -   43s\n",
      "H    0     0                       7.8390357    8.01391  2.23%     -   45s\n",
      "     0     0    8.01281    0  588    7.83904    8.01281  2.22%     -   45s\n",
      "     0     0    8.01281    0  667    7.83904    8.01281  2.22%     -   46s\n",
      "     0     0    8.01281    0  588    7.83904    8.01281  2.22%     -   46s\n",
      "     0     0    8.01281    0  717    7.83904    8.01281  2.22%     -   47s\n",
      "     0     0    8.01281    0  769    7.83904    8.01281  2.22%     -   47s\n",
      "     0     0    8.01281    0  293    7.83904    8.01281  2.22%     -   49s\n",
      "     0     0    8.01281    0  611    7.83904    8.01281  2.22%     -   50s\n",
      "     0     0    8.01271    0  496    7.83904    8.01271  2.22%     -   53s\n",
      "H    0     0                       7.8406089    8.01271  2.20%     -   54s\n",
      "     0     0    8.01270    0  655    7.84061    8.01270  2.19%     -   54s\n",
      "     0     0    8.01269    0  786    7.84061    8.01269  2.19%     -   54s\n",
      "     0     0    8.01263    0  798    7.84061    8.01263  2.19%     -   55s\n",
      "     0     0    8.01256    0  445    7.84061    8.01256  2.19%     -   57s\n",
      "H    0     0                       7.8610596    8.01256  1.93%     -   60s\n",
      "     0     0    8.01256    0  526    7.86106    8.01256  1.93%     -   60s\n",
      "     0     0    8.01254    0  783    7.86106    8.01254  1.93%     -   61s\n",
      "     0     0    8.01254    0  658    7.86106    8.01254  1.93%     -   61s\n",
      "     0     0    8.01254    0  419    7.86106    8.01254  1.93%     -   63s\n",
      "     0     0    8.01254    0  406    7.86106    8.01254  1.93%     -   97s\n",
      "     0     2    8.01254    0  406    7.86106    8.01254  1.93%     -  105s\n",
      "     5     8    8.01254    3  432    7.86106    8.01254  1.93%   286  110s\n",
      "     7     9    7.97683    3  660    7.86106    8.01254  1.93%   335  145s\n",
      "    11    11    8.01254    5  402    7.86106    8.01254  1.93%   215  151s\n",
      "    13    15    8.01254    6  402    7.86106    8.01254  1.93%   194  155s\n",
      "    22    24    7.94111    9  468    7.86106    8.01254  1.93%   149  163s\n",
      "    24    25    7.94111   10  479    7.86106    8.01254  1.93%   140  167s\n",
      "    27    27    7.94111   11  516    7.86106    8.01254  1.93%   132  173s\n",
      "    29    30    7.94103   12  517    7.86106    8.01254  1.93%   135  175s\n",
      "    37    38    7.94074   15  475    7.86106    8.01254  1.93%   115  181s\n",
      "    51    52    7.90503   22  449    7.86106    8.01254  1.93%  89.7  188s\n",
      "    57    58    7.90503   27  587    7.86106    8.01254  1.93%  87.4  190s\n",
      "    77    78    7.90503   37  560    7.86106    8.01254  1.93%  68.6  196s\n",
      "    85    86    7.90503   43  571    7.86106    8.01254  1.93%  64.1  200s\n",
      "H  113   114                       7.8614847    8.01254  1.92%  56.2  207s\n",
      "   115   116    7.90399   60  627    7.86148    8.01254  1.92%  59.4  210s\n",
      "   142   143    7.90386   72  381    7.86148    8.01254  1.92%  59.2  217s\n",
      "   145   146    7.90386   73  380    7.86148    8.01254  1.92%  58.9  222s\n",
      "   162   162    7.90277   78  536    7.86148    8.01254  1.92%  68.7  226s\n",
      "   200   201    7.90277   94  513    7.86148    8.01254  1.92%  59.1  232s\n",
      "   222   223    7.90261  110  591    7.86148    8.01254  1.92%  57.3  237s\n",
      "   254   255    7.90230  121  570    7.86148    8.01254  1.92%  54.1  240s\n",
      "H  284   285                       7.8616973    8.01254  1.92%  50.9  243s\n",
      "H  288   289                       7.8635681    8.01254  1.89%  50.8  243s\n",
      "   291   292    7.90230  138  499    7.86357    8.01254  1.89%  52.0  248s\n",
      "   314   316    7.87287  146  368    7.86357    8.01254  1.89%  52.0  251s\n",
      "   319   319    7.90026  148  561    7.86357    8.01254  1.89%  53.4  255s\n",
      "   356   356    7.89916  164  473    7.86357    8.01254  1.89%  54.7  262s\n",
      "   384   385    7.89673  170  418    7.86357    8.01254  1.89%  53.4  266s\n",
      "   418   420    7.89663  175  463    7.86357    8.01254  1.89%  51.7  271s\n",
      "   462   463    7.88946  189  386    7.86357    8.01254  1.89%  54.2  279s\n",
      "   489   485    7.87907  201  306    7.86357    8.01254  1.89%  58.1  283s\n",
      "   513   500    7.86985  217  306    7.86357    8.01254  1.89%  61.6  289s\n",
      "   537   510    7.97646   17  497    7.86357    8.01254  1.89%  65.1  296s\n",
      "   581   555    7.97515   37  343    7.86357    8.01254  1.89%  64.5  301s\n",
      "   616   575    7.97350   43  489    7.86357    8.01254  1.89%  66.3  306s\n",
      "   662   598    7.96354   48  355    7.86357    8.01254  1.89%  67.2  310s\n",
      "   674   603    7.96914   52  394    7.86357    8.01254  1.89%  68.8  316s\n",
      "   702   635    7.96406   70  355    7.86357    8.01254  1.89%  71.4  321s\n",
      "   720   647    7.95272   75  485    7.86357    8.01254  1.89%  76.6  328s\n",
      "H  729   635                       7.8720715    8.01254  1.78%  79.2  328s\n",
      "   744   656    7.98717   15  406    7.87207    8.01254  1.78%  79.1  343s\n",
      "   746   657    7.88784   38  159    7.87207    8.01254  1.78%  78.8  350s\n",
      "   749   659    7.90277   91  244    7.87207    8.00459  1.68%  78.5  357s\n"
     ]
    },
    {
     "name": "stdout",
     "output_type": "stream",
     "text": [
      "   751   661    7.89664  174  162    7.87207    8.00359  1.67%  78.3  361s\n",
      "   753   662    7.89659  149  416    7.87207    8.00072  1.63%  78.1  368s\n",
      "   754   663    7.90014   72  482    7.87207    7.99954  1.62%  78.0  370s\n",
      "H  754   629                       7.8737296    7.99953  1.60%  78.0  379s\n",
      "   756   630    7.96914   54  519    7.87373    7.99446  1.53%  77.8  381s\n",
      "   758   631    7.89746   34  462    7.87373    7.99143  1.49%  77.6  386s\n",
      "   759   632    7.90636  157  395    7.87373    7.99121  1.49%  77.5  390s\n",
      "   761   633    7.90388  237  375    7.87373    7.98917  1.47%  77.3  397s\n",
      "   763   635    7.87681  311  429    7.87373    7.98641  1.43%  77.1  404s\n",
      "   764   635    7.98465   15  597    7.87373    7.98465  1.41%  77.0  407s\n",
      "   765   636    7.90386   66  396    7.87373    7.98339  1.39%  76.9  412s\n",
      "   766   637    7.88784   38  467    7.87373    7.98128  1.37%  76.8  415s\n",
      "   767   637    7.88568  195  416    7.87373    7.98094  1.36%  76.7  420s\n",
      "   769   639    7.90277   91  350    7.87373    7.97991  1.35%  76.5  431s\n",
      "   771   640    7.89664  174  391    7.87373    7.97954  1.34%  76.3  437s\n",
      "\n",
      "Cutting planes:\n",
      "  Gomory: 22\n",
      "  Clique: 55\n",
      "  Zero half: 56\n",
      "\n",
      "Explored 771 nodes (211624 simplex iterations) in 440.44 seconds\n",
      "Thread count was 4 (of 4 available processors)\n",
      "\n",
      "Solution count 10: 7.87373 7.87207 7.87207 ... 7.8367\n",
      "\n",
      "Solve interrupted\n",
      "Best objective 7.873729626079e+00, best bound 7.978868856466e+00, gap 1.3353%\n",
      "('Optimal solution:', 7.87372962607861)\n"
     ]
    }
   ],
   "source": [
    "#mod.setParam(\"TimeLimit\",600)\n",
    "mod.optimize()\n",
    "mod.setParam('OutputFlag',False)\n",
    "\n",
    "print('Optimal solution:',mod.ObjVal)"
   ]
  },
  {
   "cell_type": "code",
   "execution_count": 89,
   "metadata": {
    "collapsed": true
   },
   "outputs": [],
   "source": [
    "# get the small subset of J that have classes in this classroom\n",
    "J1=[]\n",
    "for j in J:\n",
    "    if sum(X[i,j,p,t].x for i in I for p in P for t in T)>0:\n",
    "        J1.append(j)\n",
    "#print J1"
   ]
  },
  {
   "cell_type": "code",
   "execution_count": 90,
   "metadata": {
    "collapsed": true
   },
   "outputs": [],
   "source": [
    "# return a blank table\n",
    "def blanktable():\n",
    "    T1=[]\n",
    "    blank=[]\n",
    "    time = datetime.timedelta(hours=8,minutes=0, seconds=0)\n",
    "    for i in range(27):\n",
    "        T1.append(str(time+timedelta(hours=0.5*i)))\n",
    "        blank.append(\"\")\n",
    "    schedule=pd.DataFrame({\"# timeslot\": range(27),\n",
    "                           \"timeslot\":T1,\n",
    "                           \"Monday\":blank,\n",
    "                           \"Tuesday\":blank,\n",
    "                           \"Wednesday\":blank,\n",
    "                           \"Thursday\":blank,\n",
    "                           \"Friday\":blank})\n",
    "    sched_cols = ['# timeslot','timeslot','Monday','Tuesday','Wednesday','Thursday','Friday']\n",
    "    schedule = schedule[sched_cols]\n",
    "    schedule=schedule.set_index('# timeslot')\n",
    "    return schedule"
   ]
  },
  {
   "cell_type": "code",
   "execution_count": 91,
   "metadata": {
    "collapsed": true
   },
   "outputs": [],
   "source": [
    "# put the optimal solution into our beautiful schedule table\n",
    "timetable={}\n",
    "for j in J1:\n",
    "    #print \"J is \"+j\n",
    "    #print \"schedule\"+j\n",
    "    schedule1=blanktable()\n",
    "    for i in I:\n",
    "        for p in P:\n",
    "            for t in T:\n",
    "                if X[i,j,p,t].x>0:\n",
    "                    for a in range(int(TS[i])):\n",
    "                        schedule1.loc[t+a,p]=C[i]+\" / \"+str(i)\n",
    "                        #print schedule1\n",
    "    timetable[\"schedule\"+j]=schedule1\n",
    "    #print \"timetable \"+\"schedule\"+j\n",
    "    #print timetable[\"schedule\"+j]\n",
    "    "
   ]
  },
  {
   "cell_type": "code",
   "execution_count": 92,
   "metadata": {
    "collapsed": true
   },
   "outputs": [],
   "source": [
    "output=pd.ExcelWriter(\"schedule_2hours_sections.xlsx\")\n",
    "for j in J:\n",
    "    if sum(X[i,j,p,t].x for i in I for p in P for t in T)>0:\n",
    "        a=j+\" \"+str(seat[j])\n",
    "        timetable[\"schedule\"+j].to_excel(output,sheet_name=a,index=False)\n",
    "output.save()"
   ]
  },
  {
   "cell_type": "code",
   "execution_count": 93,
   "metadata": {
    "scrolled": true
   },
   "outputs": [
    {
     "name": "stdout",
     "output_type": "stream",
     "text": [
      "Louk, Robert, J Tuesday ACC 1.0\n",
      "Wilbur, Therese, Kujawa Tuesday BRI 1.0\n",
      "Wilbur, Therese, Kujawa Thursday BRI 1.0\n",
      "Burgos, Miriam, T Tuesday JFF 1.0\n",
      "Burgos, Miriam, T Thursday JFF 1.0\n",
      "Hopkins, Merle, W Monday JKP 1.0\n",
      "Hopkins, Merle, W Wednesday JKP 1.0\n",
      "Mukherjee, Gourab Wednesday BRI 1.0\n",
      "Kovacevich, Rex, Alan Friday BRI 1.0\n",
      "Ansari, Arif Friday BRI 1.0\n",
      "Snyder, Kirk, Dylan Tuesday JKP 1.0\n",
      "Snyder, Kirk, Dylan Thursday JKP 1.0\n",
      "Kiddoo, Bob Tuesday JFF 1.0\n",
      "Kiddoo, Bob Thursday JFF 1.0\n",
      "Swenson, Charles, W Tuesday ACC 1.0\n",
      "Swenson, Charles, W Thursday ACC 1.0\n",
      "Cavanaugh, Lisa, Ann Tuesday ACC 1.0\n",
      "Cavanaugh, Lisa, Ann Thursday ACC 1.0\n",
      "Salomone, Anthony Friday ACC 1.0\n",
      "Bristow, Duke Tuesday BRI 1.0\n",
      "Bristow, Duke Thursday BRI 1.0\n",
      "Bristow, Duke Friday JFF 1.0\n",
      "Randhawa, Smrity, P Monday BRI 1.0\n",
      "Randhawa, Smrity, P Wednesday BRI 1.0\n",
      "Fast, Nathanael Friday ACC 1.0\n",
      "Coombs, Michael, Wallace Monday JFF 1.0\n",
      "Coombs, Michael, Wallace Wednesday JFF 1.0\n",
      "Layton, Rose, M Monday BRI 1.0\n",
      "Layton, Rose, M Wednesday BRI 1.0\n",
      "Phiroz, Zal Tuesday JKP 1.0\n",
      "Phiroz, Zal Thursday JKP 1.0\n",
      "Kim, Peter, Hochin Friday JFF 1.0\n",
      "Bresnahan, Chris Friday JFF 1.0\n",
      "Bemis, Nimfa, Abarquez Tuesday JFF 1.0\n",
      "Bemis, Nimfa, Abarquez Thursday JFF 1.0\n",
      "Ahern, Kenneth Monday JFF 1.0\n",
      "Ahern, Kenneth Wednesday JFF 1.0\n",
      "Allen, Eric Monday ACC 1.0\n",
      "Allen, Eric Wednesday ACC 1.0\n",
      "Perner, Lars, Erik Friday BRI 1.0\n",
      "Wilson Sweeney, Zivia, L Monday ACC 1.0\n",
      "Wilson Sweeney, Zivia, L Wednesday ACC 1.0\n",
      "Geck, Stacy Tuesday JFF 1.0\n",
      "Geck, Stacy Thursday JFF 1.0\n",
      "Sharif, Abbass Friday JKP 1.0\n",
      "Sosic, Greys Thursday ACC 1.0\n",
      "Napoli, Albert, D Tuesday BRI 1.0\n",
      "Napoli, Albert, D Thursday BRI 1.0\n",
      "Aritz, Jolanta Monday ACC 1.0\n",
      "Aritz, Jolanta Wednesday ACC 1.0\n",
      "Schorr, Dennis Monday JKP 1.0\n",
      "Schorr, Dennis Tuesday ACC 1.0\n",
      "Schorr, Dennis Wednesday JKP 1.0\n",
      "Schorr, Dennis Thursday ACC 1.0\n",
      "Keller, Joe Monday JKP 1.0\n",
      "Keller, Joe Wednesday JKP 1.0\n",
      "Tolan, Johanna, Brockelman Friday JFF 1.0\n",
      "Levitin, Lloyd, Alan Tuesday JKP 1.0\n",
      "Levitin, Lloyd, Alan Thursday JKP 1.0\n",
      "Voss, Christopher Friday JKP 1.0\n",
      "Bonner, Sarah, Elizabeth Thursday ACC 1.0\n",
      "Colman, Maria Monday BRI 1.0\n",
      "Colman, Maria Wednesday BRI 1.0\n",
      "Barth, Steve Monday ACC 1.0\n",
      "Barth, Steve Wednesday ACC 1.0\n",
      "Mayzlin, Dina Tuesday JFF 1.0\n",
      "Mayzlin, Dina Thursday JFF 1.0\n",
      "Pereira, Francis Friday ACC 1.0\n",
      "Ferguson, Trudi, C Tuesday JKP 1.0\n",
      "Ferguson, Trudi, C Thursday JKP 1.0\n",
      "Ryan, Tom Monday BRI 1.0\n",
      "Ryan, Tom Wednesday BRI 1.0\n",
      "Ozbas, Oguzhan Monday JFF 1.0\n",
      "Ozbas, Oguzhan Wednesday JFF 1.0\n",
      "Orfalea, Paul Friday ACC 1.0\n",
      "Srinivasan, Ashok Monday JFF 1.0\n",
      "Srinivasan, Ashok Wednesday JFF 1.0\n",
      "Swartz, Mick Monday JFF 1.0\n",
      "Swartz, Mick Wednesday JFF 1.0\n",
      "Nazarian, Fatemeh, Ibrahimi Tuesday BRI 1.0\n",
      "Nazarian, Fatemeh, Ibrahimi Thursday BRI 1.0\n",
      "Summerlin, Michael Friday ACC 1.0\n",
      "Javanmard, Adel Friday BRI 1.0\n",
      "Rogers, Philip Monday BRI 1.0\n",
      "Rogers, Philip Wednesday JFF 1.0\n",
      "Loumioti, Maria Tuesday BRI 1.0\n",
      "Loumioti, Maria Thursday BRI 1.0\n",
      "Lee, Lucy V Monday ACC 1.0\n",
      "Lee, Lucy V Wednesday ACC 1.0\n",
      "Mische, Michael Monday ACC 1.0\n",
      "Mische, Michael Wednesday ACC 1.0\n",
      "Yamano, Scott Tuesday BRI 1.0\n",
      "Yamano, Scott Thursday BRI 1.0\n",
      "Markwardt, Daylanne Monday ACC 1.0\n",
      "Markwardt, Daylanne Wednesday ACC 1.0\n",
      "Cunningham, Jim Tuesday JKP 1.0\n",
      "Cunningham, Jim Thursday JKP 1.0\n",
      "Wong, Janna, Robin Monday ACC 1.0\n",
      "Wong, Janna, Robin Wednesday ACC 1.0\n",
      "Cerling, Lee Monday ACC 1.0\n",
      "Cerling, Lee Wednesday ACC 1.0\n",
      "Fields, Kerry Friday JFF 1.0\n",
      "Bayiz, Murat Friday ACC 1.0\n"
     ]
    }
   ],
   "source": [
    "# make sure that every professor is assigned to one building in the day that they have class\n",
    "# constraint8\n",
    "for f in Prof:\n",
    "    for p in P:\n",
    "        for b in Building:\n",
    "            if PD[f,p,b].x>0:\n",
    "                print f+\" \"+p+\" \"+b+\" \"+str(PD[f,p,b].x)"
   ]
  },
  {
   "cell_type": "code",
   "execution_count": 94,
   "metadata": {},
   "outputs": [
    {
     "name": "stdout",
     "output_type": "stream",
     "text": [
      "Louk, Robert, J Tuesday 1.0\n",
      "Wilbur, Therese, Kujawa Tuesday 1.0\n",
      "Wilbur, Therese, Kujawa Thursday 1.0\n",
      "Burgos, Miriam, T Tuesday 1.0\n",
      "Burgos, Miriam, T Thursday 1.0\n",
      "Hopkins, Merle, W Monday 1.0\n",
      "Hopkins, Merle, W Wednesday 1.0\n",
      "Mukherjee, Gourab Wednesday 1.0\n",
      "Kovacevich, Rex, Alan Friday 1.0\n",
      "Ansari, Arif Friday 1.0\n",
      "Snyder, Kirk, Dylan Tuesday 1.0\n",
      "Snyder, Kirk, Dylan Thursday 1.0\n",
      "Kiddoo, Bob Tuesday 1.0\n",
      "Kiddoo, Bob Thursday 1.0\n",
      "Swenson, Charles, W Tuesday 1.0\n",
      "Swenson, Charles, W Thursday 1.0\n",
      "Cavanaugh, Lisa, Ann Tuesday 1.0\n",
      "Cavanaugh, Lisa, Ann Thursday 1.0\n",
      "Salomone, Anthony Friday 1.0\n",
      "Bristow, Duke Tuesday 1.0\n",
      "Bristow, Duke Thursday 1.0\n",
      "Bristow, Duke Friday 1.0\n",
      "Randhawa, Smrity, P Monday 1.0\n",
      "Randhawa, Smrity, P Wednesday 1.0\n",
      "Fast, Nathanael Friday 1.0\n",
      "Coombs, Michael, Wallace Monday 1.0\n",
      "Coombs, Michael, Wallace Wednesday 1.0\n",
      "Layton, Rose, M Monday 1.0\n",
      "Layton, Rose, M Wednesday 1.0\n",
      "Phiroz, Zal Tuesday 1.0\n",
      "Phiroz, Zal Thursday 1.0\n",
      "Kim, Peter, Hochin Friday 1.0\n",
      "Bresnahan, Chris Friday 1.0\n",
      "Bemis, Nimfa, Abarquez Tuesday 1.0\n",
      "Bemis, Nimfa, Abarquez Thursday 1.0\n",
      "Ahern, Kenneth Monday 1.0\n",
      "Ahern, Kenneth Wednesday 1.0\n",
      "Allen, Eric Monday 1.0\n",
      "Allen, Eric Wednesday 1.0\n",
      "Perner, Lars, Erik Friday 1.0\n",
      "Wilson Sweeney, Zivia, L Monday 1.0\n",
      "Wilson Sweeney, Zivia, L Wednesday 1.0\n",
      "Geck, Stacy Tuesday 1.0\n",
      "Geck, Stacy Thursday 1.0\n",
      "Sharif, Abbass Friday 1.0\n",
      "Sosic, Greys Thursday 1.0\n",
      "Napoli, Albert, D Tuesday 1.0\n",
      "Napoli, Albert, D Thursday 1.0\n",
      "Aritz, Jolanta Monday 1.0\n",
      "Aritz, Jolanta Wednesday 1.0\n",
      "Schorr, Dennis Monday 1.0\n",
      "Schorr, Dennis Tuesday 1.0\n",
      "Schorr, Dennis Wednesday 1.0\n",
      "Schorr, Dennis Thursday 1.0\n",
      "Keller, Joe Monday 1.0\n",
      "Keller, Joe Wednesday 1.0\n",
      "Tolan, Johanna, Brockelman Friday 1.0\n",
      "Levitin, Lloyd, Alan Tuesday 1.0\n",
      "Levitin, Lloyd, Alan Thursday 1.0\n",
      "Voss, Christopher Friday 1.0\n",
      "Bonner, Sarah, Elizabeth Thursday 1.0\n",
      "Colman, Maria Monday 1.0\n",
      "Colman, Maria Wednesday 1.0\n",
      "Barth, Steve Monday 1.0\n",
      "Barth, Steve Wednesday 1.0\n",
      "Mayzlin, Dina Tuesday 1.0\n",
      "Mayzlin, Dina Thursday 1.0\n",
      "Pereira, Francis Friday 1.0\n",
      "Ferguson, Trudi, C Tuesday 1.0\n",
      "Ferguson, Trudi, C Thursday 1.0\n",
      "Ryan, Tom Monday 1.0\n",
      "Ryan, Tom Wednesday 1.0\n",
      "Ozbas, Oguzhan Monday 1.0\n",
      "Ozbas, Oguzhan Wednesday 1.0\n",
      "Orfalea, Paul Friday 1.0\n",
      "Srinivasan, Ashok Monday 1.0\n",
      "Srinivasan, Ashok Wednesday 1.0\n",
      "Swartz, Mick Monday 1.0\n",
      "Swartz, Mick Wednesday 1.0\n",
      "Nazarian, Fatemeh, Ibrahimi Tuesday 1.0\n",
      "Nazarian, Fatemeh, Ibrahimi Thursday 1.0\n",
      "Summerlin, Michael Friday 1.0\n",
      "Javanmard, Adel Friday 1.0\n",
      "Rogers, Philip Monday 1.0\n",
      "Rogers, Philip Wednesday 1.0\n",
      "Loumioti, Maria Tuesday 1.0\n",
      "Loumioti, Maria Thursday 1.0\n",
      "Lee, Lucy V Monday 1.0\n",
      "Lee, Lucy V Wednesday 1.0\n",
      "Mische, Michael Monday 1.0\n",
      "Mische, Michael Wednesday 1.0\n",
      "Yamano, Scott Tuesday 1.0\n",
      "Yamano, Scott Thursday 1.0\n",
      "Markwardt, Daylanne Monday 1.0\n",
      "Markwardt, Daylanne Wednesday 1.0\n",
      "Cunningham, Jim Tuesday 1.0\n",
      "Cunningham, Jim Thursday 1.0\n",
      "Wong, Janna, Robin Monday 1.0\n",
      "Wong, Janna, Robin Wednesday 1.0\n",
      "Cerling, Lee Monday 1.0\n",
      "Cerling, Lee Wednesday 1.0\n",
      "Fields, Kerry Friday 1.0\n",
      "Bayiz, Murat Friday 1.0\n"
     ]
    }
   ],
   "source": [
    "# check every professor's class day\n",
    "# constraint9\n",
    "for f in Prof:\n",
    "    for p in P:\n",
    "        if D[p,f].x>0:\n",
    "            print f+\" \"+p+\" \"+str(D[p,f].x)"
   ]
  },
  {
   "cell_type": "code",
   "execution_count": 95,
   "metadata": {},
   "outputs": [
    {
     "name": "stdout",
     "output_type": "stream",
     "text": [
      "14279 1.0\n",
      "16496 2.0\n",
      "15561 2.0\n",
      "14522 2.0\n",
      "14923 1.0\n",
      "14804 1.0\n",
      "16271 0.0\n",
      "15701 2.0\n",
      "14209 2.0\n",
      "14061 2.0\n",
      "16474 2.0\n",
      "14844 1.0\n",
      "15560 2.0\n",
      "14025 2.0\n",
      "14810 0.0\n",
      "15398 1.0\n",
      "14519 2.0\n",
      "16792 1.0\n",
      "16671 2.0\n",
      "14062 2.0\n",
      "14055 2.0\n",
      "14907 2.0\n",
      "16705 1.0\n",
      "14741 1.0\n",
      "14495 2.0\n",
      "14786 0.0\n",
      "14514 0.0\n",
      "14828 1.0\n",
      "14513 0.0\n",
      "14515 2.0\n",
      "14497 2.0\n",
      "14830 1.0\n",
      "14648 2.0\n",
      "14057 0.0\n",
      "16470 0.0\n",
      "15057 1.0\n",
      "16298 0.0\n",
      "14384 2.0\n",
      "66771 2.0\n",
      "16504 2.0\n",
      "14236 2.0\n",
      "14743 1.0\n",
      "15372 2.0\n",
      "16703 1.0\n",
      "16120 1.0\n",
      "16321 1.0\n",
      "14650 0.0\n",
      "15099 2.0\n",
      "16549 2.0\n",
      "16480 2.0\n",
      "14917 1.0\n",
      "15108 2.0\n",
      "14065 2.0\n",
      "14512 2.0\n",
      "15723 0.0\n",
      "14785 0.0\n",
      "14387 1.0\n",
      "14968 2.0\n",
      "15362 2.0\n",
      "15343 2.0\n",
      "14725 1.0\n",
      "14892 1.0\n",
      "15660 2.0\n",
      "14920 1.0\n",
      "14732 1.0\n",
      "14895 1.0\n",
      "14096 0.0\n",
      "66750 2.0\n",
      "15100 0.0\n",
      "14381 0.0\n",
      "14916 1.0\n",
      "66746 2.0\n",
      "15592 0.0\n",
      "14901 2.0\n",
      "14894 1.0\n",
      "66781 2.0\n",
      "15053 1.0\n",
      "14548 2.0\n",
      "66769 2.0\n",
      "14026 0.0\n",
      "15661 2.0\n",
      "15904 2.0\n",
      "16548 2.0\n",
      "15440 1.0\n",
      "15753 0.0\n"
     ]
    }
   ],
   "source": [
    "# check the number of sessions in prime time of every section\n",
    "# constraint10\n",
    "\n",
    "for i in I:\n",
    "    print str(i)+\" \"+str(PT[i].x)"
   ]
  },
  {
   "cell_type": "code",
   "execution_count": 96,
   "metadata": {
    "collapsed": true
   },
   "outputs": [],
   "source": [
    "mod.presolve()\n",
    "mod.write('check.lp')"
   ]
  },
  {
   "cell_type": "code",
   "execution_count": null,
   "metadata": {
    "collapsed": true
   },
   "outputs": [],
   "source": []
  },
  {
   "cell_type": "markdown",
   "metadata": {},
   "source": [
    "## compare for report"
   ]
  },
  {
   "cell_type": "code",
   "execution_count": 97,
   "metadata": {},
   "outputs": [
    {
     "name": "stdout",
     "output_type": "stream",
     "text": [
      "new prof's teaching rate 1.71666666667\n",
      "origional prof's teaching rate 2\n"
     ]
    }
   ],
   "source": [
    "#sum(professor's teaching days per week)/total number of professors\n",
    "\n",
    "print \"new prof's teaching rate \"+str(sum(D[p,f].x for p in P for f in Prof)/len(Prof))\n",
    "dayofprof=pd.DataFrame(columns=[\"professor\",\"teaching day\"],index=I)\n",
    "data1=data[[\"Section\",\"FirstInstructor\",\"FirstDays\"]]\n",
    "num=0\n",
    "abc=[]\n",
    "for i in I:\n",
    "    #data1.loc[data1.loc[:,\"Section\"]==i,\"FirstInstructor\"]\n",
    "    dayofprof.loc[i,\"professor\"]=str(data1.loc[data1.loc[:,\"Section\"]==i,\"FirstInstructor\"].values)\n",
    "    dayofprof.loc[i,\"teaching day\"]=str(data1.loc[data1.loc[:,\"Section\"]==i,\"FirstDays\"].values)\n",
    "    #abc.append(str(data1.loc[data1.loc[:,\"Section\"]==i,\"FirstDays\"]))\n",
    "numofteachday=0\n",
    "for j in dayofprof[\"teaching day\"]:\n",
    "    if len(j)==7:\n",
    "        numofteachday+=2\n",
    "    elif len(j)==6:\n",
    "        numofteachday+=1\n",
    "print \"origional prof's teaching rate \"+str(numofteachday/len(Prof))"
   ]
  },
  {
   "cell_type": "code",
   "execution_count": 98,
   "metadata": {
    "collapsed": true
   },
   "outputs": [],
   "source": [
    "#capacity=pd.DataFrame({\"Room\":[\"JFF LL105\",\"ACC310\",\"BRI202\",\"ACC312\",\"JKP110\",\"JFF236\"#,\"JKP102\",\n",
    "                               #,\"JFF240\",\"JKP104\",\"HOH1\",\"JKP112\",\"JFF414\",\"JKP210\",\"JKP212\"\n",
    " #                              ],\n",
    "  #                     \"Size\":[149,54,42,20,77,60#,52,48,\n",
    "                               #56,73,77,60,78,78\n",
    "   #                           ]})\n",
    "#sum(capacity[\"Size\"])"
   ]
  },
  {
   "cell_type": "code",
   "execution_count": 99,
   "metadata": {},
   "outputs": [
    {
     "name": "stdout",
     "output_type": "stream",
     "text": [
      "3150.0\n",
      "5126.0\n",
      "new classroom utilization rate 0.614514241124\n",
      "origional classroom utilization rate 0.921157419697\n"
     ]
    }
   ],
   "source": [
    "# method from jonanna\n",
    "#utilization rate of classroom\n",
    "# data after optimization\n",
    "capacity2=capacity1.set_index(\"Room\")\n",
    "allcapacity=sum(sum(X[i,j,p,t].x for i in I_oneday for p in P for t in T)*capacity2.loc[j,\"Size\"] for j in J\n",
    "               )+sum(sum(X[i,j,p,t].x for i in I_twoday for p in P for t in T)*capacity2.loc[j,\"Size\"] for j in J)/2\n",
    "allregcount=sum(section_info[\"Reg Count\"])\n",
    "print allregcount\n",
    "print allcapacity\n",
    "print \"new classroom utilization rate \"+str(allregcount/allcapacity)\n",
    "\n",
    "# origional data\n",
    "#data.columns=[\"Course\",\"Section\",\"FirstDays\",\"FirstBeginTime\",\"FirstEndTime\",\"FirstRoom\",\"FirstInstructor\",\"regcount\"]\n",
    "allcapacity=0\n",
    "allregcount=0\n",
    "for i in I:\n",
    "    #print i\n",
    "    allregcount=allregcount+int(data.loc[data.loc[:,\"Section\"]==i,\"regcount\"].values)\n",
    "    allcapacity=allcapacity+int(data.loc[data.loc[:,\"Section\"]==i,\"Seats\"].values)\n",
    "\n",
    "print \"origional classroom utilization rate \"+str(float(allregcount)/allcapacity)"
   ]
  },
  {
   "cell_type": "code",
   "execution_count": 100,
   "metadata": {
    "collapsed": true
   },
   "outputs": [],
   "source": [
    "capacity=capacity.set_index(\"Room\")"
   ]
  },
  {
   "cell_type": "code",
   "execution_count": 101,
   "metadata": {},
   "outputs": [
    {
     "name": "stdout",
     "output_type": "stream",
     "text": [
      "62.1676374241\n",
      "85\n",
      "new classroom utilization rate 0.731383969695\n",
      "2.92698121984\n",
      "6\n",
      "origional classroom utilization rate 0.487830203306\n"
     ]
    }
   ],
   "source": [
    "\n",
    "# new classroom utilization rate based on classroom\n",
    "one_session=[]\n",
    "for i in I:\n",
    "    for j in J:\n",
    "        if sum(X[i,j,p,t].x for p in P for t in T)>0:\n",
    "            #print j\n",
    "            one_session.append(student[i]/capacity.loc[j,\"Size\"])\n",
    "            \n",
    "print sum(one_session)\n",
    "print len(one_session)\n",
    "print \"new classroom utilization rate \"+str(float(sum(one_session))/len(one_session))\n",
    "\n",
    "\n",
    "\n",
    "#utilization rate\n",
    "#sum(number of registered students)/sum(seats in the assigned classroom)\n",
    "#print \"new classroom utilization rate \"+str(sum(section_info[\"Reg Count\"])/sum(capacity[\"Size\"]))\n",
    "\n",
    "\n",
    "meanreg=[]\n",
    "capacitysize=0\n",
    "for j in J:\n",
    "    cr=data.loc[data.loc[:,\"FirstRoom\"]==j,\"regcount\"]\n",
    "    if len(cr)!=0:\n",
    "        a=(float(sum(cr))/len(cr))/capacity.loc[j,\"Size\"]\n",
    "        #print a\n",
    "        meanreg.append((float(sum(cr))/len(cr))/capacity.loc[j,\"Size\"])\n",
    "        #capacitysize=capacitysize+capacity.loc[j,\"Size\"]\n",
    "        #print j\n",
    "print sum(meanreg)\n",
    "print len(capacity)\n",
    "print \"origional classroom utilization rate \"+str(float(sum(meanreg))/len(capacity))\n",
    "\n"
   ]
  },
  {
   "cell_type": "code",
   "execution_count": 102,
   "metadata": {},
   "outputs": [
    {
     "name": "stdout",
     "output_type": "stream",
     "text": [
      "new utilization rate of prime time 0.89375\n",
      "origional utilization rate of prime time 0.342045454545\n"
     ]
    }
   ],
   "source": [
    "#utilization rate prime time of optimized result\n",
    "#sum(primetime以内的每节课时长[按分钟算])/(教室数*一天8小时*60*5天[按分钟算])\n",
    "usedprimetime=sum(int(section_info.loc[section_info.loc[:,\"section\"]==i,\"timelength\"].values*30*PT[i].x) for i in I)\n",
    "allprimetime=(8*60*5*len(capacity))\n",
    "print \"new utilization rate of prime time \"+str(float(usedprimetime)/allprimetime)\n",
    "\n",
    "#utilization rate prime time of origional data\n",
    "#sum(primetime以内的每节课时长[按分钟算])/(教室数*一天8小时*60*5天[按分钟算])\n",
    "#data[[\"FirstBeginTime\",\"FirstEndTime\"]]\n",
    "begintime=datetime.time(10,0,0)\n",
    "endtime=datetime.time(18,0,0)\n",
    "timedata=data.loc[(data.loc[:,\"FirstBeginTime\"]>=begintime)&\n",
    "                  (data.loc[:,\"FirstEndTime\"]<=endtime),[\"FirstBeginTime\",\"FirstEndTime\"]]\n",
    "# timelength\n",
    "timelength=[]\n",
    "for i in timedata.index:\n",
    "    time1=timedata.loc[i,\"FirstEndTime\"]\n",
    "    time2=timedata.loc[i,\"FirstBeginTime\"]\n",
    "    minutediff=((time1.hour*60+time1.minute)-(time2.hour*60+time2.minute)+10)\n",
    "    halfhour=minutediff/30\n",
    "    if minutediff%30>0:\n",
    "        halfhour+=1\n",
    "    timelength.append(halfhour)\n",
    "    \n",
    "usedprimetime=sum(timelength)*30\n",
    "allprimetime=(8*60*5*len(capacity1))\n",
    "print \"origional utilization rate of prime time \"+str(float(usedprimetime)/allprimetime)\n",
    "\n"
   ]
  },
  {
   "cell_type": "code",
   "execution_count": 103,
   "metadata": {},
   "outputs": [
    {
     "ename": "KeyboardInterrupt",
     "evalue": "",
     "output_type": "error",
     "traceback": [
      "\u001b[0;31m---------------------------------------------------------------------------\u001b[0m",
      "\u001b[0;31mKeyboardInterrupt\u001b[0m                         Traceback (most recent call last)",
      "\u001b[0;32m<ipython-input-103-2276318aa064>\u001b[0m in \u001b[0;36m<module>\u001b[0;34m()\u001b[0m\n\u001b[1;32m      7\u001b[0m                 \u001b[0mresult\u001b[0m\u001b[0;34m.\u001b[0m\u001b[0mloc\u001b[0m\u001b[0;34m[\u001b[0m\u001b[0mnum\u001b[0m\u001b[0;34m,\u001b[0m\u001b[0;34m\"I section\"\u001b[0m\u001b[0;34m]\u001b[0m\u001b[0;34m=\u001b[0m\u001b[0mi\u001b[0m\u001b[0;34m\u001b[0m\u001b[0m\n\u001b[1;32m      8\u001b[0m                 \u001b[0mresult\u001b[0m\u001b[0;34m.\u001b[0m\u001b[0mloc\u001b[0m\u001b[0;34m[\u001b[0m\u001b[0mnum\u001b[0m\u001b[0;34m,\u001b[0m\u001b[0;34m\"J classroom\"\u001b[0m\u001b[0;34m]\u001b[0m\u001b[0;34m=\u001b[0m\u001b[0mj\u001b[0m\u001b[0;34m\u001b[0m\u001b[0m\n\u001b[0;32m----> 9\u001b[0;31m                 \u001b[0mresult\u001b[0m\u001b[0;34m.\u001b[0m\u001b[0mloc\u001b[0m\u001b[0;34m[\u001b[0m\u001b[0mnum\u001b[0m\u001b[0;34m,\u001b[0m\u001b[0;34m\"P day of week\"\u001b[0m\u001b[0;34m]\u001b[0m\u001b[0;34m=\u001b[0m\u001b[0mp\u001b[0m\u001b[0;34m\u001b[0m\u001b[0m\n\u001b[0m\u001b[1;32m     10\u001b[0m                 \u001b[0mresult\u001b[0m\u001b[0;34m.\u001b[0m\u001b[0mloc\u001b[0m\u001b[0;34m[\u001b[0m\u001b[0mnum\u001b[0m\u001b[0;34m,\u001b[0m\u001b[0;34m\"T time slots\"\u001b[0m\u001b[0;34m]\u001b[0m\u001b[0;34m=\u001b[0m\u001b[0mt\u001b[0m\u001b[0;34m\u001b[0m\u001b[0m\n\u001b[1;32m     11\u001b[0m                 \u001b[0mnum\u001b[0m\u001b[0;34m+=\u001b[0m\u001b[0;36m1\u001b[0m\u001b[0;34m\u001b[0m\u001b[0m\n",
      "\u001b[0;32m/Users/yufeiwang/anaconda3/envs/py27/lib/python2.7/site-packages/pandas/core/indexing.pyc\u001b[0m in \u001b[0;36m__setitem__\u001b[0;34m(self, key, value)\u001b[0m\n\u001b[1;32m    192\u001b[0m             \u001b[0mkey\u001b[0m \u001b[0;34m=\u001b[0m \u001b[0mcom\u001b[0m\u001b[0;34m.\u001b[0m\u001b[0m_apply_if_callable\u001b[0m\u001b[0;34m(\u001b[0m\u001b[0mkey\u001b[0m\u001b[0;34m,\u001b[0m \u001b[0mself\u001b[0m\u001b[0;34m.\u001b[0m\u001b[0mobj\u001b[0m\u001b[0;34m)\u001b[0m\u001b[0;34m\u001b[0m\u001b[0m\n\u001b[1;32m    193\u001b[0m         \u001b[0mindexer\u001b[0m \u001b[0;34m=\u001b[0m \u001b[0mself\u001b[0m\u001b[0;34m.\u001b[0m\u001b[0m_get_setitem_indexer\u001b[0m\u001b[0;34m(\u001b[0m\u001b[0mkey\u001b[0m\u001b[0;34m)\u001b[0m\u001b[0;34m\u001b[0m\u001b[0m\n\u001b[0;32m--> 194\u001b[0;31m         \u001b[0mself\u001b[0m\u001b[0;34m.\u001b[0m\u001b[0m_setitem_with_indexer\u001b[0m\u001b[0;34m(\u001b[0m\u001b[0mindexer\u001b[0m\u001b[0;34m,\u001b[0m \u001b[0mvalue\u001b[0m\u001b[0;34m)\u001b[0m\u001b[0;34m\u001b[0m\u001b[0m\n\u001b[0m\u001b[1;32m    195\u001b[0m \u001b[0;34m\u001b[0m\u001b[0m\n\u001b[1;32m    196\u001b[0m     \u001b[0;32mdef\u001b[0m \u001b[0m_has_valid_type\u001b[0m\u001b[0;34m(\u001b[0m\u001b[0mself\u001b[0m\u001b[0;34m,\u001b[0m \u001b[0mk\u001b[0m\u001b[0;34m,\u001b[0m \u001b[0maxis\u001b[0m\u001b[0;34m)\u001b[0m\u001b[0;34m:\u001b[0m\u001b[0;34m\u001b[0m\u001b[0m\n",
      "\u001b[0;32m/Users/yufeiwang/anaconda3/envs/py27/lib/python2.7/site-packages/pandas/core/indexing.pyc\u001b[0m in \u001b[0;36m_setitem_with_indexer\u001b[0;34m(self, indexer, value)\u001b[0m\n\u001b[1;32m    637\u001b[0m             \u001b[0mself\u001b[0m\u001b[0;34m.\u001b[0m\u001b[0mobj\u001b[0m\u001b[0;34m.\u001b[0m\u001b[0m_consolidate_inplace\u001b[0m\u001b[0;34m(\u001b[0m\u001b[0;34m)\u001b[0m\u001b[0;34m\u001b[0m\u001b[0m\n\u001b[1;32m    638\u001b[0m             self.obj._data = self.obj._data.setitem(indexer=indexer,\n\u001b[0;32m--> 639\u001b[0;31m                                                     value=value)\n\u001b[0m\u001b[1;32m    640\u001b[0m             \u001b[0mself\u001b[0m\u001b[0;34m.\u001b[0m\u001b[0mobj\u001b[0m\u001b[0;34m.\u001b[0m\u001b[0m_maybe_update_cacher\u001b[0m\u001b[0;34m(\u001b[0m\u001b[0mclear\u001b[0m\u001b[0;34m=\u001b[0m\u001b[0mTrue\u001b[0m\u001b[0;34m)\u001b[0m\u001b[0;34m\u001b[0m\u001b[0m\n\u001b[1;32m    641\u001b[0m \u001b[0;34m\u001b[0m\u001b[0m\n",
      "\u001b[0;32m/Users/yufeiwang/anaconda3/envs/py27/lib/python2.7/site-packages/pandas/core/internals.pyc\u001b[0m in \u001b[0;36msetitem\u001b[0;34m(self, **kwargs)\u001b[0m\n\u001b[1;32m   3439\u001b[0m \u001b[0;34m\u001b[0m\u001b[0m\n\u001b[1;32m   3440\u001b[0m     \u001b[0;32mdef\u001b[0m \u001b[0msetitem\u001b[0m\u001b[0;34m(\u001b[0m\u001b[0mself\u001b[0m\u001b[0;34m,\u001b[0m \u001b[0;34m**\u001b[0m\u001b[0mkwargs\u001b[0m\u001b[0;34m)\u001b[0m\u001b[0;34m:\u001b[0m\u001b[0;34m\u001b[0m\u001b[0m\n\u001b[0;32m-> 3441\u001b[0;31m         \u001b[0;32mreturn\u001b[0m \u001b[0mself\u001b[0m\u001b[0;34m.\u001b[0m\u001b[0mapply\u001b[0m\u001b[0;34m(\u001b[0m\u001b[0;34m'setitem'\u001b[0m\u001b[0;34m,\u001b[0m \u001b[0;34m**\u001b[0m\u001b[0mkwargs\u001b[0m\u001b[0;34m)\u001b[0m\u001b[0;34m\u001b[0m\u001b[0m\n\u001b[0m\u001b[1;32m   3442\u001b[0m \u001b[0;34m\u001b[0m\u001b[0m\n\u001b[1;32m   3443\u001b[0m     \u001b[0;32mdef\u001b[0m \u001b[0mputmask\u001b[0m\u001b[0;34m(\u001b[0m\u001b[0mself\u001b[0m\u001b[0;34m,\u001b[0m \u001b[0;34m**\u001b[0m\u001b[0mkwargs\u001b[0m\u001b[0;34m)\u001b[0m\u001b[0;34m:\u001b[0m\u001b[0;34m\u001b[0m\u001b[0m\n",
      "\u001b[0;32m/Users/yufeiwang/anaconda3/envs/py27/lib/python2.7/site-packages/pandas/core/internals.pyc\u001b[0m in \u001b[0;36mapply\u001b[0;34m(self, f, axes, filter, do_integrity_check, consolidate, **kwargs)\u001b[0m\n\u001b[1;32m   3327\u001b[0m \u001b[0;34m\u001b[0m\u001b[0m\n\u001b[1;32m   3328\u001b[0m             \u001b[0mkwargs\u001b[0m\u001b[0;34m[\u001b[0m\u001b[0;34m'mgr'\u001b[0m\u001b[0;34m]\u001b[0m \u001b[0;34m=\u001b[0m \u001b[0mself\u001b[0m\u001b[0;34m\u001b[0m\u001b[0m\n\u001b[0;32m-> 3329\u001b[0;31m             \u001b[0mapplied\u001b[0m \u001b[0;34m=\u001b[0m \u001b[0mgetattr\u001b[0m\u001b[0;34m(\u001b[0m\u001b[0mb\u001b[0m\u001b[0;34m,\u001b[0m \u001b[0mf\u001b[0m\u001b[0;34m)\u001b[0m\u001b[0;34m(\u001b[0m\u001b[0;34m**\u001b[0m\u001b[0mkwargs\u001b[0m\u001b[0;34m)\u001b[0m\u001b[0;34m\u001b[0m\u001b[0m\n\u001b[0m\u001b[1;32m   3330\u001b[0m             \u001b[0mresult_blocks\u001b[0m \u001b[0;34m=\u001b[0m \u001b[0m_extend_blocks\u001b[0m\u001b[0;34m(\u001b[0m\u001b[0mapplied\u001b[0m\u001b[0;34m,\u001b[0m \u001b[0mresult_blocks\u001b[0m\u001b[0;34m)\u001b[0m\u001b[0;34m\u001b[0m\u001b[0m\n\u001b[1;32m   3331\u001b[0m \u001b[0;34m\u001b[0m\u001b[0m\n",
      "\u001b[0;32m/Users/yufeiwang/anaconda3/envs/py27/lib/python2.7/site-packages/pandas/core/internals.pyc\u001b[0m in \u001b[0;36msetitem\u001b[0;34m(self, indexer, value, mgr)\u001b[0m\n\u001b[1;32m    902\u001b[0m \u001b[0;34m\u001b[0m\u001b[0m\n\u001b[1;32m    903\u001b[0m         \u001b[0;31m# coerce and try to infer the dtypes of the result\u001b[0m\u001b[0;34m\u001b[0m\u001b[0;34m\u001b[0m\u001b[0m\n\u001b[0;32m--> 904\u001b[0;31m         \u001b[0mvalues\u001b[0m \u001b[0;34m=\u001b[0m \u001b[0mself\u001b[0m\u001b[0;34m.\u001b[0m\u001b[0m_try_coerce_and_cast_result\u001b[0m\u001b[0;34m(\u001b[0m\u001b[0mvalues\u001b[0m\u001b[0;34m,\u001b[0m \u001b[0mdtype\u001b[0m\u001b[0;34m)\u001b[0m\u001b[0;34m\u001b[0m\u001b[0m\n\u001b[0m\u001b[1;32m    905\u001b[0m         \u001b[0mblock\u001b[0m \u001b[0;34m=\u001b[0m \u001b[0mself\u001b[0m\u001b[0;34m.\u001b[0m\u001b[0mmake_block\u001b[0m\u001b[0;34m(\u001b[0m\u001b[0mtransf\u001b[0m\u001b[0;34m(\u001b[0m\u001b[0mvalues\u001b[0m\u001b[0;34m)\u001b[0m\u001b[0;34m,\u001b[0m \u001b[0mfastpath\u001b[0m\u001b[0;34m=\u001b[0m\u001b[0mTrue\u001b[0m\u001b[0;34m)\u001b[0m\u001b[0;34m\u001b[0m\u001b[0m\n\u001b[1;32m    906\u001b[0m         \u001b[0;32mreturn\u001b[0m \u001b[0mblock\u001b[0m\u001b[0;34m\u001b[0m\u001b[0m\n",
      "\u001b[0;32m/Users/yufeiwang/anaconda3/envs/py27/lib/python2.7/site-packages/pandas/core/internals.pyc\u001b[0m in \u001b[0;36m_try_coerce_and_cast_result\u001b[0;34m(self, result, dtype)\u001b[0m\n\u001b[1;32m    709\u001b[0m     \u001b[0;32mdef\u001b[0m \u001b[0m_try_coerce_and_cast_result\u001b[0m\u001b[0;34m(\u001b[0m\u001b[0mself\u001b[0m\u001b[0;34m,\u001b[0m \u001b[0mresult\u001b[0m\u001b[0;34m,\u001b[0m \u001b[0mdtype\u001b[0m\u001b[0;34m=\u001b[0m\u001b[0mNone\u001b[0m\u001b[0;34m)\u001b[0m\u001b[0;34m:\u001b[0m\u001b[0;34m\u001b[0m\u001b[0m\n\u001b[1;32m    710\u001b[0m         \u001b[0mresult\u001b[0m \u001b[0;34m=\u001b[0m \u001b[0mself\u001b[0m\u001b[0;34m.\u001b[0m\u001b[0m_try_coerce_result\u001b[0m\u001b[0;34m(\u001b[0m\u001b[0mresult\u001b[0m\u001b[0;34m)\u001b[0m\u001b[0;34m\u001b[0m\u001b[0m\n\u001b[0;32m--> 711\u001b[0;31m         \u001b[0mresult\u001b[0m \u001b[0;34m=\u001b[0m \u001b[0mself\u001b[0m\u001b[0;34m.\u001b[0m\u001b[0m_try_cast_result\u001b[0m\u001b[0;34m(\u001b[0m\u001b[0mresult\u001b[0m\u001b[0;34m,\u001b[0m \u001b[0mdtype\u001b[0m\u001b[0;34m=\u001b[0m\u001b[0mdtype\u001b[0m\u001b[0;34m)\u001b[0m\u001b[0;34m\u001b[0m\u001b[0m\n\u001b[0m\u001b[1;32m    712\u001b[0m         \u001b[0;32mreturn\u001b[0m \u001b[0mresult\u001b[0m\u001b[0;34m\u001b[0m\u001b[0m\n\u001b[1;32m    713\u001b[0m \u001b[0;34m\u001b[0m\u001b[0m\n",
      "\u001b[0;32m/Users/yufeiwang/anaconda3/envs/py27/lib/python2.7/site-packages/pandas/core/internals.pyc\u001b[0m in \u001b[0;36m_try_cast_result\u001b[0;34m(self, result, dtype)\u001b[0m\n\u001b[1;32m    689\u001b[0m \u001b[0;34m\u001b[0m\u001b[0m\n\u001b[1;32m    690\u001b[0m         \u001b[0;31m# may need to change the dtype here\u001b[0m\u001b[0;34m\u001b[0m\u001b[0;34m\u001b[0m\u001b[0m\n\u001b[0;32m--> 691\u001b[0;31m         \u001b[0;32mreturn\u001b[0m \u001b[0mmaybe_downcast_to_dtype\u001b[0m\u001b[0;34m(\u001b[0m\u001b[0mresult\u001b[0m\u001b[0;34m,\u001b[0m \u001b[0mdtype\u001b[0m\u001b[0;34m)\u001b[0m\u001b[0;34m\u001b[0m\u001b[0m\n\u001b[0m\u001b[1;32m    692\u001b[0m \u001b[0;34m\u001b[0m\u001b[0m\n\u001b[1;32m    693\u001b[0m     \u001b[0;32mdef\u001b[0m \u001b[0m_try_coerce_args\u001b[0m\u001b[0;34m(\u001b[0m\u001b[0mself\u001b[0m\u001b[0;34m,\u001b[0m \u001b[0mvalues\u001b[0m\u001b[0;34m,\u001b[0m \u001b[0mother\u001b[0m\u001b[0;34m)\u001b[0m\u001b[0;34m:\u001b[0m\u001b[0;34m\u001b[0m\u001b[0m\n",
      "\u001b[0;32m/Users/yufeiwang/anaconda3/envs/py27/lib/python2.7/site-packages/pandas/core/dtypes/cast.pyc\u001b[0m in \u001b[0;36mmaybe_downcast_to_dtype\u001b[0;34m(result, dtype)\u001b[0m\n\u001b[1;32m    108\u001b[0m         \u001b[0;32mif\u001b[0m \u001b[0mdtype\u001b[0m\u001b[0;34m.\u001b[0m\u001b[0mkind\u001b[0m \u001b[0;34m==\u001b[0m \u001b[0mresult\u001b[0m\u001b[0;34m.\u001b[0m\u001b[0mdtype\u001b[0m\u001b[0;34m.\u001b[0m\u001b[0mkind\u001b[0m\u001b[0;34m:\u001b[0m\u001b[0;34m\u001b[0m\u001b[0m\n\u001b[1;32m    109\u001b[0m             if (result.dtype.itemsize <= dtype.itemsize and\n\u001b[0;32m--> 110\u001b[0;31m                     np.prod(result.shape)):\n\u001b[0m\u001b[1;32m    111\u001b[0m                 \u001b[0;32mreturn\u001b[0m \u001b[0mresult\u001b[0m\u001b[0;34m\u001b[0m\u001b[0m\n\u001b[1;32m    112\u001b[0m \u001b[0;34m\u001b[0m\u001b[0m\n",
      "\u001b[0;32m/Users/yufeiwang/anaconda3/envs/py27/lib/python2.7/site-packages/numpy/core/fromnumeric.pyc\u001b[0m in \u001b[0;36mprod\u001b[0;34m(a, axis, dtype, out, keepdims)\u001b[0m\n\u001b[1;32m   2564\u001b[0m \u001b[0;34m\u001b[0m\u001b[0m\n\u001b[1;32m   2565\u001b[0m     return _methods._prod(a, axis=axis, dtype=dtype,\n\u001b[0;32m-> 2566\u001b[0;31m                           out=out, **kwargs)\n\u001b[0m\u001b[1;32m   2567\u001b[0m \u001b[0;34m\u001b[0m\u001b[0m\n\u001b[1;32m   2568\u001b[0m \u001b[0;34m\u001b[0m\u001b[0m\n",
      "\u001b[0;32m/Users/yufeiwang/anaconda3/envs/py27/lib/python2.7/site-packages/numpy/core/_methods.pyc\u001b[0m in \u001b[0;36m_prod\u001b[0;34m(a, axis, dtype, out, keepdims)\u001b[0m\n\u001b[1;32m     33\u001b[0m \u001b[0;34m\u001b[0m\u001b[0m\n\u001b[1;32m     34\u001b[0m \u001b[0;32mdef\u001b[0m \u001b[0m_prod\u001b[0m\u001b[0;34m(\u001b[0m\u001b[0ma\u001b[0m\u001b[0;34m,\u001b[0m \u001b[0maxis\u001b[0m\u001b[0;34m=\u001b[0m\u001b[0mNone\u001b[0m\u001b[0;34m,\u001b[0m \u001b[0mdtype\u001b[0m\u001b[0;34m=\u001b[0m\u001b[0mNone\u001b[0m\u001b[0;34m,\u001b[0m \u001b[0mout\u001b[0m\u001b[0;34m=\u001b[0m\u001b[0mNone\u001b[0m\u001b[0;34m,\u001b[0m \u001b[0mkeepdims\u001b[0m\u001b[0;34m=\u001b[0m\u001b[0mFalse\u001b[0m\u001b[0;34m)\u001b[0m\u001b[0;34m:\u001b[0m\u001b[0;34m\u001b[0m\u001b[0m\n\u001b[0;32m---> 35\u001b[0;31m     \u001b[0;32mreturn\u001b[0m \u001b[0mumr_prod\u001b[0m\u001b[0;34m(\u001b[0m\u001b[0ma\u001b[0m\u001b[0;34m,\u001b[0m \u001b[0maxis\u001b[0m\u001b[0;34m,\u001b[0m \u001b[0mdtype\u001b[0m\u001b[0;34m,\u001b[0m \u001b[0mout\u001b[0m\u001b[0;34m,\u001b[0m \u001b[0mkeepdims\u001b[0m\u001b[0;34m)\u001b[0m\u001b[0;34m\u001b[0m\u001b[0m\n\u001b[0m\u001b[1;32m     36\u001b[0m \u001b[0;34m\u001b[0m\u001b[0m\n\u001b[1;32m     37\u001b[0m \u001b[0;32mdef\u001b[0m \u001b[0m_any\u001b[0m\u001b[0;34m(\u001b[0m\u001b[0ma\u001b[0m\u001b[0;34m,\u001b[0m \u001b[0maxis\u001b[0m\u001b[0;34m=\u001b[0m\u001b[0mNone\u001b[0m\u001b[0;34m,\u001b[0m \u001b[0mdtype\u001b[0m\u001b[0;34m=\u001b[0m\u001b[0mNone\u001b[0m\u001b[0;34m,\u001b[0m \u001b[0mout\u001b[0m\u001b[0;34m=\u001b[0m\u001b[0mNone\u001b[0m\u001b[0;34m,\u001b[0m \u001b[0mkeepdims\u001b[0m\u001b[0;34m=\u001b[0m\u001b[0mFalse\u001b[0m\u001b[0;34m)\u001b[0m\u001b[0;34m:\u001b[0m\u001b[0;34m\u001b[0m\u001b[0m\n",
      "\u001b[0;31mKeyboardInterrupt\u001b[0m: "
     ]
    }
   ],
   "source": [
    "result=pd.DataFrame(columns=[\"I section\",\"J classroom\",\"P day of week\",\"T time slots\"])\n",
    "num=0\n",
    "for i in I:\n",
    "    for j in J:\n",
    "        for t in T:\n",
    "            for p in P:\n",
    "                result.loc[num,\"I section\"]=i\n",
    "                result.loc[num,\"J classroom\"]=j\n",
    "                result.loc[num,\"P day of week\"]=p\n",
    "                result.loc[num,\"T time slots\"]=t\n",
    "                num+=1\n",
    "result.to_excel(\"saveX_new_ratio.xlsx\")"
   ]
  },
  {
   "cell_type": "code",
   "execution_count": 104,
   "metadata": {
    "collapsed": true
   },
   "outputs": [],
   "source": [
    "section_info.to_excel(\"85_sestions.xlsx\")"
   ]
  },
  {
   "cell_type": "code",
   "execution_count": 105,
   "metadata": {
    "collapsed": true
   },
   "outputs": [],
   "source": [
    "capacity=pd.DataFrame({\"Room\":[\"JFF LL105\",\"JKP110\",\"JFF414\",\"ACC201\",\"JKP104\",\"ACC312\"],\n",
    "                       \"Size\":[149,77,60,48,56,20\n",
    "                              ]})\n",
    "capacity.to_csv(\"6_classrooms.csv\")"
   ]
  },
  {
   "cell_type": "code",
   "execution_count": null,
   "metadata": {
    "collapsed": true
   },
   "outputs": [],
   "source": []
  }
 ],
 "metadata": {
  "kernelspec": {
   "display_name": "Python 3",
   "language": "python",
   "name": "python3"
  },
  "language_info": {
   "codemirror_mode": {
    "name": "ipython",
    "version": 3
   },
   "file_extension": ".py",
   "mimetype": "text/x-python",
   "name": "python",
   "nbconvert_exporter": "python",
   "pygments_lexer": "ipython3",
   "version": "3.6.3"
  }
 },
 "nbformat": 4,
 "nbformat_minor": 2
}
