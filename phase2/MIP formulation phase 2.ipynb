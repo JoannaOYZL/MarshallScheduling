{
 "cells": [
  {
   "cell_type": "markdown",
   "metadata": {},
   "source": [
    "#### Input data:  \n",
    "$$\\begin{aligned}\n",
    "\\text{Section information:}\n",
    "&& I & = \\text{{all course sections}} \\\\\n",
    "&& student & = \\text{{predicted number of students who will register for each section}} \\\\\n",
    "&& PS & = \\text{{number of sessions for each section}}  \\\\\n",
    "&& TS & = \\text{{the timelength of each session in 30-minute block unit (e.g., 3, 6)}}  \\\\\n",
    "&& I_2 & = \\text{{sections with 2 sessions a week (i.e., MW and TH)}} \\\\\n",
    "\\\\\n",
    "\\text{Classroom information:}\n",
    "&& J & = \\text{{classrooms}} \\\\\n",
    "&& seat & = \\text{{number of seats in each classroom}}  \\\\\n",
    "\\\\\n",
    "\\text{Day-time information:}\n",
    "&& P & = \\text{{day of week (i.e., M T W H F)}}  \\\\\n",
    "&& T & = \\text{{start time of a section}} \\\\\n",
    "\\end{aligned}$$"
   ]
  },
  {
   "cell_type": "markdown",
   "metadata": {},
   "source": [
    "#### Decision variable:\n",
    "Let the binary decision variable $X_{ijpt}$ denotes whether we assign course section $i$ to classroom $j$ at day $p$ starting at time $t$."
   ]
  },
  {
   "cell_type": "markdown",
   "metadata": {},
   "source": [
    "#### Objective and constraints:\n",
    "Our goal is to maximize the capacity utilization rate. The linear program is thus:\n",
    "$$\\begin{aligned}\n",
    "\\text{maximize} && \\sum_{i\\in I}\\sum_{j\\in J}\\sum_{p\\in P}\\sum_{t\\in T}{X_{ijpt}\\frac{student_i}{seat_j}} \\\\\n",
    "\\end{aligned}$$\n",
    "\n",
    "$$\\begin{aligned}\n",
    "\\text{Subject to:} \\\\\n",
    "\\text{No start time conflict for classes:} && X_{ijpt} + X_{(I-i)jpt} & \\le 1 && \\forall i \\in I, j \\in J, p \\in P, t \\in T\\\\\n",
    "\\\\\n",
    "\\text{No class conflict when a class is in session:} && X_{ijpt} + X_{i'jp(t+c)}& \\le 1 && \\forall i,i' \\in I; j \\in J; p \\in P; t \\in T; c \\in \\{1,2,...,TS_i-1\\}\\\\\n",
    "\\\\\n",
    "\\text{All required sessions must be scheduled:} && \\sum_{j\\in J}\\sum_{p\\in P}\\sum_{t\\in T}{X_{ijpt}} & = PS_i && \\forall i \\in I\\\\\n",
    "\\\\\n",
    "\\text{Number of students must not exceed total seats:} && X_{ijpt} * student_i & \\le seat_j && \\forall i \\in I, j \\in J, p \\in P, t \\in T \\\\\n",
    "\\\\\n",
    "\\text{No class beyond school time (i.e., 9.30PM):} && X_{ijpt'} & = 0 && \\forall i \\in I, j \\in J, p \\in P, t' \\in \\{T_{max}-TS_i+2,...,T_{max}\\} \\\\\n",
    "\\\\\n",
    "\\text{Binding clause for 2-session course (MW):} && X_{ij'M't} & = X_{ij'W't} && \\forall i \\in I_2, j \\in J, t \\in T\\\\\n",
    "\\text{Binding clause for 2-session course (TH):} && X_{ij'T't} & = X_{ij'H't} && \\forall i \\in I_2, j \\in J, t \\in T\\\\\n",
    "\\\\\n",
    "\\text{No Friday class for courses with 2 sessions:} && X_{ij'F't} & = 0 && \\forall i \\in I_2, j \\in J, t \\in T \\\\\n",
    "\\end{aligned}$$"
   ]
  }
 ],
 "metadata": {
  "kernelspec": {
   "display_name": "Python 3",
   "language": "python",
   "name": "python3"
  },
  "language_info": {
   "codemirror_mode": {
    "name": "ipython",
    "version": 3
   },
   "file_extension": ".py",
   "mimetype": "text/x-python",
   "name": "python",
   "nbconvert_exporter": "python",
   "pygments_lexer": "ipython3",
   "version": "3.6.3"
  }
 },
 "nbformat": 4,
 "nbformat_minor": 2
}
